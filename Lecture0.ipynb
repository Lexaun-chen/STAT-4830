{
 "cells": [
  {
   "cell_type": "markdown",
   "metadata": {},
   "source": [
    "# STAT 4830 Lecture 0: Building a Spam Filter with PyTorch\n",
    "\n",
    "Our spam filter uses these key ingredients:\n",
    "\n",
    "1. A collection of emails labeled as spam or legitimate\n",
    "2. Features that capture telltale signs of spam\n",
    "3. A model that learns to spot these patterns\n",
    "4. Training that improves the model's accuracy\n",
    "\n",
    "Let's start by preparing our data and model:"
   ]
  },
  {
   "cell_type": "code",
   "execution_count": 10,
   "metadata": {},
   "outputs": [],
   "source": [
    "import torch\n",
    "import numpy as np\n",
    "import matplotlib.pyplot as plt\n",
    "import seaborn as sns\n",
    "from typing import Dict, List\n",
    "\n",
    "sns.set_style(\"whitegrid\")\n",
    "\n",
    "# Sample emails for training\n",
    "import torch\n",
    "import numpy as np\n",
    "import matplotlib.pyplot as plt\n",
    "from typing import Dict, List\n",
    "import seaborn as sns\n",
    "sns.set_style(\"whitegrid\")\n",
    "\n",
    "# spam emails \n",
    "spam_emails = [\n",
    "    \"URGENT! You've won $1,000,000!!! Claim your prize NOW at www.not-a-scam.com\",\n",
    "    \"Buy cheap watches! Limited time offer!!! Click here: www.watches4u.com!!!\",\n",
    "    \"Make $$$ from home!! Secret method revealed at www.get-rich-quick.com!!!\",\n",
    "    \"Congratulations! You're our lucky winner!!! Claim NOW at www.lucky-prizes.com\",\n",
    "    \"AMAZING investment opportunity!!! 1000% returns guaranteed! www.invest-here.com\",\n",
    "    \"Double your money in 24 hours! Expert system at www.trading-genius.com!!!\",\n",
    "    \"Exclusive VIP membership waiting! Click now: www.elite-status.com\",\n",
    "    \"Your account needs verification! Update details: www.secure-bank-verify.com\",\n",
    "    \"Work from home! Earn $500/day! Training at www.easy-income.com\",\n",
    "    \"LAST CHANCE! 90% OFF Designer Items at www.luxury-deals.com!!!\",\n",
    "    \"You're pre-approved! Claim loan NOW at www.quick-cash-loans.com\",\n",
    "    \"Lose 20 pounds in 1 week! Secret formula: www.miracle-weight-loss.com\",\n",
    "    \"FREE iPhone 15! You're our chosen winner: www.phone-giveaway.com\",\n",
    "    \"Unlock your fortune! Ancient wisdom at www.wealth-secrets.com\",\n",
    "    \"Time-limited offer! Digital coins at 50% OFF: www.crypto-deals.com\"\n",
    "]\n",
    "\n",
    "# legitimate emails \n",
    "legitimate_emails = [\n",
    "    # Previous examples\n",
    "    \"Team meeting at 2pm tomorrow. Please review the attached agenda.\",\n",
    "    \"Hi, can you send me the Q3 sales report when you get a chance?\",\n",
    "    \"Reminder: Performance reviews due by Friday. Submit via HR portal.\",\n",
    "    \"Lunch next week? I'm free Tuesday or Wednesday.\",\n",
    "    \"Project update: Phase 1 complete. Starting Phase 2 tomorrow.\",\n",
    "    \"The budget spreadsheet has been updated with Q4 projections.\",\n",
    "    \"Could you review the client proposal before Thursday's meeting?\",\n",
    "    \"Building maintenance: WiFi upgrade scheduled for this weekend.\",\n",
    "    \"Thanks for your feedback on the design mockups. Revisions attached.\",\n",
    "    \"Your vacation request for Dec 15-20 has been approved.\",\n",
    "    \"Please complete the annual compliance training by month-end.\",\n",
    "    \"New parking policy effective next month. Details in handbook.\",\n",
    "    \"Great presentation yesterday! The client was impressed.\",\n",
    "    \"Reminder: Office closing early (3pm) for holiday party.\",\n",
    "    \"Your requested software license has been activated.\"\n",
    "]\n",
    "\n",
    "# Not going to train on these \n",
    "## test spam emails \n",
    "test_spam = [\n",
    "    \"FREE MONEY!!! Click now www.free-cash.com!!!\",\n",
    "    \"You're selected!!! Claim prize at www.winner-today.com\",\n",
    "    \"URGENT: Account suspended! Verify now: www.account-verify.com!!!\",\n",
    "    \"Win a dream vacation! Enter here: www.luxury-trips.com\",\n",
    "    \"Special VIP access! Limited spots at www.exclusive-club.com\"\n",
    "]\n",
    "\n",
    "## test legitimate emails \n",
    "test_legitimate = [\n",
    "    # Previous examples\n",
    "    \"Updated meeting schedule for next week attached.\",\n",
    "    \"Can we sync up about the client presentation?\",\n",
    "    \"Don't forget about tomorrow's deadline.\",\n",
    "    \"The quarterly report is ready for your review.\",\n",
    "    \"Please submit your expenses by end of month.\"\n",
    "]\n",
    "\n"
   ]
  },
  {
   "cell_type": "markdown",
   "metadata": {},
   "source": [
    "The model needs numbers, not text. We extract five key features from each email:\n"
   ]
  },
  {
   "cell_type": "code",
   "execution_count": 11,
   "metadata": {},
   "outputs": [],
   "source": [
    "def extract_features(email: str) -> Dict[str, float]:\n",
    "    \"\"\"Convert email text into numeric features.\"\"\"\n",
    "    return {\n",
    "        'exclamation_count': email.count('!'),\n",
    "        'urgent_words': len(set(['urgent', 'buy', 'money', 'won', 'free']) & \n",
    "                           set(email.lower().split())),\n",
    "        'suspicious_links': len([w for w in email.split() if 'www' in w]),\n",
    "        'caps_ratio': sum(1 for c in email if c.isupper()) / len(email),\n",
    "        'length': len(email) / 500  # Normalized length\n",
    "    }\n",
    "\n",
    "def create_feature_matrix(emails: List[str]) -> torch.Tensor:\n",
    "    \"\"\"Convert email list into a feature matrix.\"\"\"\n",
    "    features = [list(extract_features(email).values()) for email in emails]\n",
    "    return torch.tensor(features, dtype=torch.float32)\n",
    "\n",
    "def sigmoid(x: torch.Tensor) -> torch.Tensor:\n",
    "    \"\"\"Transform scores into probabilities between 0 and 1.\"\"\"\n",
    "    return 1 / (1 + torch.exp(-x))"
   ]
  },
  {
   "cell_type": "markdown",
   "metadata": {},
   "source": [
    "Now let's train the model to distinguish spam from legitimate emails:\n"
   ]
  },
  {
   "cell_type": "code",
   "execution_count": 12,
   "metadata": {},
   "outputs": [],
   "source": [
    "# Prepare data\n",
    "X_train = create_feature_matrix(spam_emails + legitimate_emails)\n",
    "y_train = torch.tensor([1]*len(spam_emails) + [0]*len(legitimate_emails), dtype=torch.float32)\n",
    "\n",
    "X_test = create_feature_matrix(test_spam + test_legitimate)\n",
    "y_test = torch.tensor([1]*len(test_spam) + [0]*len(test_legitimate), dtype=torch.float32)\n",
    "\n",
    "# Initialize model and optimizer\n",
    "# set the seed for reproducibility\n",
    "torch.manual_seed(5)\n",
    "\n",
    "# initialize the weights\n",
    "weights = torch.randn(5, requires_grad=True)\n",
    "optimizer = torch.optim.SGD([weights], lr=0.1)\n",
    "\n",
    "# Training loop\n",
    "n_steps = 200 # number of steps to train for    \n",
    "losses = []\n",
    "test_accuracies = []\n",
    "\n",
    "for step in range(n_steps):\n",
    "    # Make predictions\n",
    "    scores = X_train @ weights\n",
    "    predictions = sigmoid(scores)\n",
    "    \n",
    "    # Calculate cross-entropy loss\n",
    "    loss = -torch.mean(y_train * torch.log(predictions) + \n",
    "                      (1 - y_train) * torch.log(1 - predictions))\n",
    "    \n",
    "    # Update weights\n",
    "    optimizer.zero_grad()\n",
    "    loss.backward()\n",
    "    optimizer.step()\n",
    "    \n",
    "    # Track progress\n",
    "    losses.append(loss.item())\n",
    "    with torch.no_grad():\n",
    "        test_preds = sigmoid(X_test @ weights)\n",
    "        test_acc = torch.mean(((test_preds > 0.5) == y_test).float()) # decision threshold is 0.5\n",
    "        test_accuracies.append(test_acc.item())"
   ]
  },
  {
   "cell_type": "markdown",
   "metadata": {},
   "source": [
    "Let's examine how well our model learned:"
   ]
  },
  {
   "cell_type": "code",
   "execution_count": 13,
   "metadata": {},
   "outputs": [
    {
     "data": {
      "image/png": "[encoded data removed]",
      "text/plain": [
       "<Figure size 864x360 with 2 Axes>"
      ]
     },
     "metadata": {},
     "output_type": "display_data"
    }
   ],
   "source": [
    "# Plot training curves\n",
    "plt.figure(figsize=(12, 5))\n",
    "plt.subplot(1, 2, 1)\n",
    "plt.plot(losses)\n",
    "plt.title('Training Loss')\n",
    "plt.xlabel('Step')\n",
    "plt.ylabel('Cross-Entropy Loss')\n",
    "\n",
    "plt.subplot(1, 2, 2)\n",
    "plt.plot(test_accuracies)\n",
    "plt.title('Test Accuracy')\n",
    "plt.xlabel('Step')\n",
    "plt.ylabel('Accuracy')\n",
    "plt.show()"
   ]
  },
  {
   "cell_type": "markdown",
   "metadata": {},
   "source": [
    "The loss curve tracks how well our model classifies emails during training. The loss curve descends gradually throughout the training before plateauing. This measure how well the model is doing on the training data. \n",
    "\n",
    "On the other hand, the test accuracy measures something more important: how well the model spots spam in new, unseen emails. We see that the test accuracy of the model jumps multiple times until it reaches 100% accuracy.\n",
    "\n",
    "Let's see how well this trained model performs on new emails:"
   ]
  },
  {
   "cell_type": "code",
   "execution_count": 14,
   "metadata": {},
   "outputs": [
    {
     "name": "stdout",
     "output_type": "stream",
     "text": [
      "\n",
      "Test Set Predictions:\n",
      "\n",
      "Email: FREE MONEY!!! Click now www.free-cash.com!!!...\n",
      "True label: Spam\n",
      "Predicted probability of spam: 1.000\n",
      "Prediction: Spam\n",
      "\n",
      "Email: You're selected!!! Claim prize at www.winner-today...\n",
      "True label: Spam\n",
      "Predicted probability of spam: 0.990\n",
      "Prediction: Spam\n",
      "\n",
      "Email: URGENT: Account suspended! Verify now: www.account...\n",
      "True label: Spam\n",
      "Predicted probability of spam: 0.997\n",
      "Prediction: Spam\n",
      "\n",
      "Email: Win a dream vacation! Enter here: www.luxury-trips...\n",
      "True label: Spam\n",
      "Predicted probability of spam: 0.887\n",
      "Prediction: Spam\n",
      "\n",
      "Email: Special VIP access! Limited spots at www.exclusive...\n",
      "True label: Spam\n",
      "Predicted probability of spam: 0.889\n",
      "Prediction: Spam\n",
      "\n",
      "Email: Updated meeting schedule for next week attached....\n",
      "True label: Not Spam\n",
      "Predicted probability of spam: 0.488\n",
      "Prediction: Not Spam\n",
      "\n",
      "Email: Can we sync up about the client presentation?...\n",
      "True label: Not Spam\n",
      "Predicted probability of spam: 0.489\n",
      "Prediction: Not Spam\n",
      "\n",
      "Email: Don't forget about tomorrow's deadline....\n",
      "True label: Not Spam\n",
      "Predicted probability of spam: 0.492\n",
      "Prediction: Not Spam\n",
      "\n",
      "Email: The quarterly report is ready for your review....\n",
      "True label: Not Spam\n",
      "Predicted probability of spam: 0.489\n",
      "Prediction: Not Spam\n",
      "\n",
      "Email: Please submit your expenses by end of month....\n",
      "True label: Not Spam\n",
      "Predicted probability of spam: 0.490\n",
      "Prediction: Not Spam\n"
     ]
    }
   ],
   "source": [
    "# Evaluate on test set\n",
    "with torch.no_grad():\n",
    "    test_preds = sigmoid(X_test @ weights)\n",
    "    print(\"\\nTest Set Predictions:\")\n",
    "    for i, (pred, label) in enumerate(zip(test_preds, y_test)):\n",
    "        email = test_spam[i] if i < len(test_spam) else test_legitimate[i - len(test_spam)]\n",
    "        print(f\"\\nEmail: {email[:50]}...\")\n",
    "        print(f\"True label: {'Spam' if label == 1 else 'Not Spam'}\")\n",
    "        print(f\"Predicted probability of spam: {pred:.3f}\")\n",
    "        print(f\"Prediction: {'Spam' if pred > 0.5 else 'Not Spam'}\")"
   ]
  },
  {
   "cell_type": "markdown",
   "metadata": {},
   "source": [
    "The model assigns high spam probabilities (0.99-1.0) to emails containing \"FREE MONEY\" and \"URGENT\" with suspicious links. Vacation and VIP offers receive moderately high probabilities (0.85). Business emails about meetings and deadlines get probabilities just under 0.5 (0.48-0.49), marking them as non-spam. The model makes correct predictions across all test cases, showing it can distinguish spam characteristics while respecting legitimate business communication.\n",
    "\n",
    "This simple model demonstrates the core principles of machine learning: extract meaningful features, train on labeled examples, and evaluate on unseen data. More sophisticated spam filters might use additional features or advanced architectures, but they follow these same fundamental steps."
   ]
  }
 ],
 "metadata": {
  "kernelspec": {
   "display_name": "Python 3",
   "language": "python",
   "name": "python3"
  },
  "language_info": {
   "codemirror_mode": {
    "name": "ipython",
    "version": 3
   },
   "file_extension": ".py",
   "mimetype": "text/x-python",
   "name": "python",
   "nbconvert_exporter": "python",
   "pygments_lexer": "ipython3",
   "version": "3.10.4"
  }
 },
 "nbformat": 4,
 "nbformat_minor": 2
}
