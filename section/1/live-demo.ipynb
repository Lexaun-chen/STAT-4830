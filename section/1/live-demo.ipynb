{
 "cells": [
  {
   "cell_type": "markdown",
   "id": "5ef9b107",
   "metadata": {
    "tags": []
   },
   "source": [
    "# Basic Linear Algebra in PyTorch (Live Demo)\n",
    "\n",
    "\n",
    "## Introduction\n",
    "\n",
    "In this demo, we'll explore how PyTorch implements linear algebra operations efficiently. Note for this notebook to run, you'll need to have the utils.py file in the same directory as the notebook.\n",
    "\n",
    "First, we'll import the necessary libraries and setup our environment:"
   ]
  },
  {
   "cell_type": "code",
   "execution_count": 1,
   "id": "bb9558f2",
   "metadata": {},
   "outputs": [],
   "source": [
    "import torch\n",
    "import matplotlib.pyplot as plt\n",
    "import numpy as np\n",
    "from utils import *\n",
    "\n",
    "# Set random seed for reproducibility\n",
    "torch.manual_seed(42)\n",
    "\n",
    "def visualize_vector_geometry(v1, v2):\n",
    "    \"\"\"Visualize two vectors, their angle, and projection.\"\"\"\n",
    "    # Create figure with square aspect ratio\n",
    "    plt.figure(figsize=(8, 8))\n",
    "    \n",
    "    # Calculate projection\n",
    "    proj_scalar = torch.dot(v1, v2) / torch.dot(v2, v2)\n",
    "    proj = proj_scalar * v2\n",
    "    print('projection length:', torch.norm(proj))\n",
    "    print('original vector length:', torch.norm(v1))\n",
    "    \n",
    "    # Plot vectors\n",
    "    plt.quiver(0, 0, v1[0].item(), v1[1].item(), angles='xy', scale_units='xy', scale=1, \n",
    "              color='blue', label='v1', width=0.008)\n",
    "    plt.quiver(0, 0, v2[0].item(), v2[1].item(), angles='xy', scale_units='xy', scale=1, \n",
    "              color='red', label='v2', width=0.008)\n",
    "    plt.quiver(0, 0, proj[0].item(), proj[1].item(), angles='xy', scale_units='xy', scale=1, \n",
    "              color='green', label='projection', width=0.008)\n",
    "    \n",
    "    # Draw dashed line from tip of projection to tip of v1\n",
    "    plt.plot([proj[0].item(), v1[0].item()], [proj[1].item(), v1[1].item()], 'k--', alpha=0.3)\n",
    "    \n",
    "    # Set bounds with padding\n",
    "    max_coord = max(torch.max(torch.abs(v1)), torch.max(torch.abs(v2))).item() * 1.5\n",
    "    plt.xlim(-max_coord, max_coord)\n",
    "    plt.ylim(-max_coord, max_coord)\n",
    "    \n",
    "    # Add grid, labels, and title\n",
    "    plt.grid(True)\n",
    "    plt.legend()\n",
    "    plt.title('Vector Geometry')\n",
    "    plt.xlabel('x')\n",
    "    plt.ylabel('y')\n",
    "    \n",
    "    # Ensure equal aspect ratio\n",
    "    plt.axis('equal')\n",
    "    plt.show()"
   ]
  },
  {
   "cell_type": "markdown",
   "id": "0a3093c3",
   "metadata": {},
   "source": [
    "## Part 1: Vectors and Tensors\n",
    "\n",
    "### Creating Tensors\n",
    "\n",
    "Let's explore different ways to create tensors:"
   ]
  },
  {
   "cell_type": "code",
   "execution_count": 2,
   "id": "ec9e23af",
   "metadata": {},
   "outputs": [
    {
     "name": "stdout",
     "output_type": "stream",
     "text": [
      "Vector shape: torch.Size([3])\n"
     ]
    }
   ],
   "source": [
    "# 1. Creating from data\n",
    "temps = torch.tensor([22.5, 23.1, 21.8])\n",
    "print(f\"Vector shape: {temps.shape}\")  # torch.Size([3])"
   ]
  },
  {
   "cell_type": "code",
   "execution_count": 3,
   "id": "a0a6b517",
   "metadata": {},
   "outputs": [
    {
     "name": "stdout",
     "output_type": "stream",
     "text": [
      "Zeros shape: torch.Size([3])\n"
     ]
    }
   ],
   "source": [
    "# 2. Creating initialized tensors\n",
    "zeros = torch.zeros(3)\n",
    "print(f\"Zeros shape: {zeros.shape}\")  # torch.Size([3])"
   ]
  },
  {
   "cell_type": "code",
   "execution_count": 4,
   "id": "441f93e2",
   "metadata": {},
   "outputs": [
    {
     "name": "stdout",
     "output_type": "stream",
     "text": [
      "Matrix shape: torch.Size([7, 3])\n"
     ]
    }
   ],
   "source": [
    "# 3. Creating random tensors\n",
    "weekly = torch.randn(7, 3)  # 7 days, 3 readings per day\n",
    "print(f\"Matrix shape: {weekly.shape}\")  # torch.Size([7, 3])"
   ]
  },
  {
   "cell_type": "code",
   "execution_count": 5,
   "id": "58a854ac",
   "metadata": {},
   "outputs": [
    {
     "name": "stdout",
     "output_type": "stream",
     "text": [
      "z dtype: torch.int64\n"
     ]
    }
   ],
   "source": [
    "# Common Mistake: Default dtype\n",
    "z = torch.tensor([1, 2, 3])  # What dtype will this be?\n",
    "print(f\"z dtype: {z.dtype}\")  # Will be int64, not float32!"
   ]
  },
  {
   "cell_type": "markdown",
   "id": "4d0ebdfe",
   "metadata": {},
   "source": [
    "### Basic Vector Operations\n",
    "\n",
    "First, let's create two example vectors:"
   ]
  },
  {
   "cell_type": "code",
   "execution_count": 6,
   "id": "6989e5b7",
   "metadata": {},
   "outputs": [
    {
     "name": "stdout",
     "output_type": "stream",
     "text": [
      "x: tensor([1., 2., 3.])\n",
      "y: tensor([2., 3., 4.])\n"
     ]
    }
   ],
   "source": [
    "x = torch.tensor([1.0, 2.0, 3.0])\n",
    "y = torch.tensor([2.0, 3.0, 4.0])\n",
    "print(\"x:\", x)\n",
    "print(\"y:\", y)"
   ]
  },
  {
   "cell_type": "markdown",
   "id": "4d4c3a55",
   "metadata": {},
   "source": [
    "Let's explore basic operations:\n",
    "\n",
    "1. Vector Addition:"
   ]
  },
  {
   "cell_type": "code",
   "execution_count": 7,
   "id": "3be88c3b",
   "metadata": {},
   "outputs": [
    {
     "name": "stdout",
     "output_type": "stream",
     "text": [
      "x + y = tensor([3., 5., 7.])\n"
     ]
    }
   ],
   "source": [
    "z = x + y\n",
    "print(\"x + y =\", z)  # Expected: [3., 5., 7.]"
   ]
  },
  {
   "cell_type": "markdown",
   "id": "20742bcf",
   "metadata": {},
   "source": [
    "2. Scalar Multiplication:"
   ]
  },
  {
   "cell_type": "code",
   "execution_count": 8,
   "id": "5698095b",
   "metadata": {},
   "outputs": [
    {
     "name": "stdout",
     "output_type": "stream",
     "text": [
      "2 * x = tensor([2., 4., 6.])\n"
     ]
    }
   ],
   "source": [
    "z = 2 * x\n",
    "print(\"2 * x =\", z)  # Expected: [2., 4., 6.]"
   ]
  },
  {
   "cell_type": "markdown",
   "id": "04d1391c",
   "metadata": {},
   "source": [
    "3. Dot Product:"
   ]
  },
  {
   "cell_type": "code",
   "execution_count": 9,
   "id": "92ebdaf0",
   "metadata": {},
   "outputs": [
    {
     "name": "stdout",
     "output_type": "stream",
     "text": [
      "x · y = tensor(20.)\n"
     ]
    }
   ],
   "source": [
    "# dot_product = x₁y₁ + x₂y₂ + x₃y₃\n",
    "dot_prod = torch.dot(x, y)\n",
    "print(\"x · y =\", dot_prod)  # Expected: 20 = 1*2 + 2*3 + 3*4"
   ]
  },
  {
   "cell_type": "markdown",
   "id": "61f74ca7",
   "metadata": {},
   "source": [
    "4. Vector Norm (Length):"
   ]
  },
  {
   "cell_type": "code",
   "execution_count": 10,
   "id": "0f1579eb",
   "metadata": {},
   "outputs": [
    {
     "name": "stdout",
     "output_type": "stream",
     "text": [
      "||x|| = tensor(3.7417)\n"
     ]
    }
   ],
   "source": [
    "# norm = √(x₁² + x₂² + x₃²)\n",
    "norm = torch.norm(x)\n",
    "print(\"||x|| =\", norm)  # Expected: 3.7417 = √(1² + 2² + 3²)"
   ]
  },
  {
   "cell_type": "markdown",
   "id": "e3b7be3c",
   "metadata": {},
   "source": [
    "### Vector Geometry\n",
    "\n",
    "1. Angle Between Vectors:"
   ]
  },
  {
   "cell_type": "code",
   "execution_count": 11,
   "id": "059c6196",
   "metadata": {},
   "outputs": [
    {
     "name": "stdout",
     "output_type": "stream",
     "text": [
      "Angle between x and y: 0.12 radians\n",
      "Cosine similarity: 0.993\n"
     ]
    }
   ],
   "source": [
    "# cos(θ) = (x·y)/(||x|| ||y||)\n",
    "cos_theta = torch.dot(x, y) / (torch.norm(x) * torch.norm(y))\n",
    "theta = torch.acos(cos_theta)\n",
    "print(f\"Angle between x and y: {theta.item():.2f} radians\")\n",
    "print(f\"Cosine similarity: {cos_theta.item():.3f}\")"
   ]
  },
  {
   "cell_type": "markdown",
   "id": "1b61e34b",
   "metadata": {},
   "source": [
    "2. Vector Projection:"
   ]
  },
  {
   "cell_type": "code",
   "execution_count": 12,
   "id": "9d959690",
   "metadata": {},
   "outputs": [
    {
     "name": "stdout",
     "output_type": "stream",
     "text": [
      "Original vector y: tensor([2., 3., 4.])\n",
      "Vector x: tensor([1., 2., 3.])\n",
      "Projection of y onto x: tensor([1.4286, 2.8571, 4.2857])\n",
      "\n",
      "Verification:\n",
      "Length of y: 5.3852\n",
      "Length of projection: 5.3452\n",
      "Cosine of angle between difference and x: 9.73e-08\n"
     ]
    }
   ],
   "source": [
    "# Formula: proj_x(y) = (x·y/||x||²) * x \n",
    "# This gives us the component of y that points in the direction of x\n",
    "x = x.float()  # Convert x to float\n",
    "y = y.float()  # Convert y to float\n",
    "scalar_proj = torch.dot(x, y) / torch.dot(x, x)  # Scalar projection\n",
    "proj = scalar_proj * x  # Vector projection\n",
    "\n",
    "# Verify projection properties\n",
    "print(f\"Original vector y: {y}\")\n",
    "print(f\"Vector x: {x}\")\n",
    "print(f\"Projection of y onto x: {proj}\")\n",
    "\n",
    "# Verification: projection length should be <= original vector length\n",
    "print(f\"\\nVerification:\")\n",
    "print(f\"Length of y: {torch.norm(y):.4f}\")\n",
    "print(f\"Length of projection: {torch.norm(proj):.4f}\")\n",
    "\n",
    "# The difference vector (y - proj) should be orthogonal to x\n",
    "diff = y - proj\n",
    "cos_angle = torch.dot(diff, x) / (torch.norm(diff) * torch.norm(x))\n",
    "print(f\"Cosine of angle between difference and x: {cos_angle:.2e}\")  # Should be ~0"
   ]
  },
  {
   "cell_type": "markdown",
   "id": "80544ca5",
   "metadata": {},
   "source": [
    "3. Visualization:"
   ]
  },
  {
   "cell_type": "code",
   "execution_count": 13,
   "id": "123819d3",
   "metadata": {},
   "outputs": [
    {
     "name": "stdout",
     "output_type": "stream",
     "text": [
      "projection length: tensor(5.3452)\n",
      "original vector length: tensor(5.3852)\n"
     ]
    },
    {
     "data": {
      "image/png": "[encoded data removed]",
      "text/plain": [
       "<Figure size 576x576 with 1 Axes>"
      ]
     },
     "metadata": {
      "needs_background": "light"
     },
     "output_type": "display_data"
    },
    {
     "name": "stdout",
     "output_type": "stream",
     "text": [
      "\n",
      "Key Properties of Vector Projection:\n",
      "1. Projection vector points in same direction as y\n",
      "2. Projection length ≤ original vector length\n",
      "3. (x - projection) is orthogonal to y\n"
     ]
    }
   ],
   "source": [
    "# Visualize vectors, angle, and projection\n",
    "visualize_vector_geometry(y,x)\n",
    "print(\"\\nKey Properties of Vector Projection:\")\n",
    "print(\"1. Projection vector points in same direction as y\")\n",
    "print(\"2. Projection length ≤ original vector length\")\n",
    "print(\"3. (x - projection) is orthogonal to y\")"
   ]
  },
  {
   "cell_type": "markdown",
   "id": "66fcb58b",
   "metadata": {},
   "source": [
    "### From Vectors to Matrices\n",
    "\n",
    "Now that we understand vector operations and geometry, let's see how these concepts extend to matrices (2D tensors) and higher dimensions. Matrix operations are built from vector operations:\n",
    "\n",
    "- Matrix addition: Adding corresponding vectors (rows/columns)\n",
    "- Matrix-vector product: Multiple dot products\n",
    "- Matrix-matrix product: Multiple matrix-vector products\n",
    "\n",
    "Let's see this in action:"
   ]
  },
  {
   "cell_type": "code",
   "execution_count": 14,
   "id": "d401adc4",
   "metadata": {},
   "outputs": [
    {
     "name": "stdout",
     "output_type": "stream",
     "text": [
      "Vector v: tensor([1., 2., 3.])\n",
      "\n",
      "Matrix A:\n",
      "tensor([[1., 2., 3.],\n",
      "        [4., 5., 6.]])\n"
     ]
    }
   ],
   "source": [
    "# Create example vectors and matrices\n",
    "v = torch.tensor([1., 2., 3.])\n",
    "A = torch.tensor([[1., 2., 3.],\n",
    "                 [4., 5., 6.]])\n",
    "print(\"Vector v:\", v)\n",
    "print(\"\\nMatrix A:\")\n",
    "print(A)"
   ]
  },
  {
   "cell_type": "code",
   "execution_count": 15,
   "id": "cf93b658",
   "metadata": {},
   "outputs": [
    {
     "name": "stdout",
     "output_type": "stream",
     "text": [
      "First row of A as vector: tensor([1., 2., 3.])\n",
      "Dot product with v: tensor(14.)\n",
      "\n",
      "Matrix-vector product A @ v:\n",
      "tensor([14., 32.])\n",
      "\n",
      "Verify first element: tensor(14.)\n",
      "Verify second element: tensor(32.)\n"
     ]
    }
   ],
   "source": [
    "# 1. Matrix row as vector operation\n",
    "print(\"First row of A as vector:\", A[0,:])  # Just like our vector v\n",
    "print(\"Dot product with v:\", torch.dot(A[0,:], v))  # Same as before!\n",
    "\n",
    "# 2. Matrix-vector product (multiple dot products)\n",
    "result = A @ v  # Each element is a dot product\n",
    "print(\"\\nMatrix-vector product A @ v:\")\n",
    "print(result)\n",
    "print(\"\\nVerify first element:\", torch.dot(A[0,:], v))  # Same as manual calculation\n",
    "print(\"Verify second element:\", torch.dot(A[1,:], v))\n",
    "\n",
    "# Think about: How would changing the matrix layout (row-major vs column-major)\n",
    "# affect the performance of matrix-vector multiplication? Why?"
   ]
  },
  {
   "cell_type": "markdown",
   "id": "6ddc12f6",
   "metadata": {},
   "source": [
    "Common mistakes to watch for:"
   ]
  },
  {
   "cell_type": "code",
   "execution_count": 16,
   "id": "ca65a4c2",
   "metadata": {},
   "outputs": [
    {
     "name": "stdout",
     "output_type": "stream",
     "text": [
      "Error: 1D tensors expected, but got 2D and 1D tensors\n",
      "\n",
      "Why? torch.dot is for 1D vectors only!\n",
      "Use @ for matrix-vector multiplication\n"
     ]
    }
   ],
   "source": [
    "try:\n",
    "    # Wrong: trying to dot product matrix with vector\n",
    "    wrong = torch.dot(A, v)\n",
    "except RuntimeError as e:\n",
    "    print(\"Error:\", e)\n",
    "    print(\"\\nWhy? torch.dot is for 1D vectors only!\")\n",
    "    print(\"Use @ for matrix-vector multiplication\")"
   ]
  },
  {
   "cell_type": "markdown",
   "id": "416611a5",
   "metadata": {},
   "source": [
    "Now let's look at higher dimensions:"
   ]
  },
  {
   "cell_type": "code",
   "execution_count": 17,
   "id": "e7d118d2",
   "metadata": {},
   "outputs": [
    {
     "name": "stdout",
     "output_type": "stream",
     "text": [
      "Matrix A:\n",
      "tensor([[1., 2., 3.],\n",
      "        [4., 5., 6.]])\n",
      "Shape: torch.Size([2, 3])\n",
      "dtype: torch.float32\n"
     ]
    }
   ],
   "source": [
    "# Create a 2×3 matrix directly from data\n",
    "A = torch.tensor([[1.0, 2.0, 3.0],\n",
    "                 [4.0, 5.0, 6.0]])\n",
    "print(\"Matrix A:\")\n",
    "print(A)\n",
    "print(\"Shape:\", A.shape)  # torch.Size([2, 3])\n",
    "print(\"dtype:\", A.dtype)  # torch.float32"
   ]
  },
  {
   "cell_type": "code",
   "execution_count": 18,
   "id": "b0e52a88",
   "metadata": {},
   "outputs": [
    {
     "name": "stdout",
     "output_type": "stream",
     "text": [
      "3D Tensor B:\n",
      "tensor([[[-0.4245,  0.3057, -0.7746,  0.0349],\n",
      "         [ 0.3211,  1.5736, -0.8455,  1.3123],\n",
      "         [ 0.1754,  1.3852, -0.4459,  1.4451]],\n",
      "\n",
      "        [[ 0.8564,  2.2181,  0.5232,  0.3466],\n",
      "         [ 0.5612, -0.4527, -0.7718, -0.1722],\n",
      "         [ 0.5238,  0.0566,  0.4263,  0.5750]]])\n",
      "Shape: torch.Size([2, 3, 4])\n",
      "\n",
      "3D Tensor Structure:\n",
      "Layer 0:\n",
      "tensor([[-0.4245,  0.3057, -0.7746,  0.0349],\n",
      "        [ 0.3211,  1.5736, -0.8455,  1.3123],\n",
      "        [ 0.1754,  1.3852, -0.4459,  1.4451]])\n",
      "\n",
      "Layer 1:\n",
      "tensor([[ 0.8564,  2.2181,  0.5232,  0.3466],\n",
      "        [ 0.5612, -0.4527, -0.7718, -0.1722],\n",
      "        [ 0.5238,  0.0566,  0.4263,  0.5750]])\n"
     ]
    }
   ],
   "source": [
    "# Create a 3D tensor (think of it as a stack of matrices)\n",
    "B = torch.randn(2, 3, 4)  # 2 matrices, each 3×4\n",
    "print(\"3D Tensor B:\")\n",
    "print(B)\n",
    "print(\"Shape:\", B.shape)  # torch.Size([2, 3, 4])\n",
    "\n",
    "# Visualize the structure:\n",
    "print(\"\\n3D Tensor Structure:\")\n",
    "print(\"Layer 0:\")\n",
    "print(B[0])\n",
    "print(\"\\nLayer 1:\")\n",
    "print(B[1])"
   ]
  },
  {
   "cell_type": "code",
   "execution_count": 19,
   "id": "598ca64d",
   "metadata": {},
   "outputs": [
    {
     "name": "stdout",
     "output_type": "stream",
     "text": [
      "Sum along rows (dim=1): tensor([ 6., 15.])\n",
      "Mean along columns (dim=0): tensor([2.5000, 3.5000, 4.5000])\n",
      "Maximum value: tensor(6.)\n"
     ]
    }
   ],
   "source": [
    "# Vector operations extend naturally to matrices\n",
    "print(\"Sum along rows (dim=1):\", A.sum(dim=1))       # Expected: tensor([6., 15.])\n",
    "print(\"Mean along columns (dim=0):\", A.mean(dim=0))  # Expected: tensor([2.5, 3.5, 4.5])\n",
    "print(\"Maximum value:\", A.max())                     # Expected: tensor(6.)\n",
    "\n",
    "# Note: dimensions work like this:\n",
    "#   dim=0 → ↓ (down columns)\n",
    "#   dim=1 → → (across rows)\n",
    "#   dim=2 → ↗ (into depth, for 3D)"
   ]
  },
  {
   "cell_type": "markdown",
   "id": "a42e7426",
   "metadata": {},
   "source": [
    "### Memory Layout and Performance\n",
    "\n",
    "Modern computers use a hierarchy of memory systems, from very fast but small (CPU cache) to slower but large (RAM). Understanding this hierarchy is crucial for writing efficient code:\n",
    "\n",
    "#### What is a Cache?\n",
    "Think of computer memory like a library:\n",
    "- Main Memory (RAM) is like the library building - lots of storage, but far away\n",
    "- Cache is like your desk - tiny space (typically 32KB), but very fast access\n",
    "- When you read data, the computer brings it AND nearby data to the cache\n",
    "- If the next piece of data you need is already in cache - very fast!\n",
    "- If it's back in main memory - slow, need to fetch it\n",
    "\n",
    "Before looking at the timing results below, predict:\n",
    "- Which operation will be faster: summing along rows or columns?\n",
    "- How will the matrix shape affect performance?\n",
    "\n",
    "#### 1. Basic Memory Layout"
   ]
  },
  {
   "cell_type": "code",
   "execution_count": 20,
   "id": "3c82c348",
   "metadata": {},
   "outputs": [
    {
     "name": "stdout",
     "output_type": "stream",
     "text": [
      "What we see (2D array):\n",
      "tensor([[1, 2, 3],\n",
      "        [4, 5, 6],\n",
      "        [7, 8, 9]])\n",
      "\n",
      "How it's stored (1D array):\n",
      "[1 2 3 4 5 6 7 8 9]\n"
     ]
    }
   ],
   "source": [
    "# Create a simple matrix\n",
    "A = torch.tensor([[1, 2, 3],\n",
    "                 [4, 5, 6],\n",
    "                 [7, 8, 9]])\n",
    "\n",
    "print(\"What we see (2D array):\")\n",
    "print(A)\n",
    "print(\"\\nHow it's stored (1D array):\")\n",
    "print(\"[1 2 3 4 5 6 7 8 9]\")"
   ]
  },
  {
   "cell_type": "markdown",
   "id": "a2609a09",
   "metadata": {},
   "source": [
    "#### 2. Access Patterns"
   ]
  },
  {
   "cell_type": "code",
   "execution_count": 21,
   "id": "10a32eba",
   "metadata": {},
   "outputs": [
    {
     "name": "stdout",
     "output_type": "stream",
     "text": [
      "Row access A[0,:]:\n",
      "tensor([1, 2, 3])\n",
      "\n",
      "Column access A[:,0]:\n",
      "tensor([1, 4, 7])\n"
     ]
    }
   ],
   "source": [
    "# Row access (fast: adjacent elements)\n",
    "print(\"Row access A[0,:]:\")\n",
    "print(A[0,:])  # Elements 1,2,3 are next to each other\n",
    "\n",
    "# Column access (slower: need to jump)\n",
    "print(\"\\nColumn access A[:,0]:\")\n",
    "print(A[:,0])  # Need to jump 3 steps: 1,4,7"
   ]
  },
  {
   "cell_type": "markdown",
   "id": "d2fbe643",
   "metadata": {},
   "source": [
    "#### 3. Understanding Timing and Performance Measurements\n",
    "\n",
    "When measuring performance in Python, we use several metrics:\n",
    "\n",
    "1. **Wall Time** (Real Time):\n",
    "   - What you'd measure with a stopwatch\n",
    "   - Usually LOWER than CPU time due to parallel execution\n",
    "   - Most relevant for \"how long did I wait?\"\n",
    "\n",
    "2. **CPU Time** (Computation Time):\n",
    "   - **User Time**: Time spent in your code\n",
    "   - **System Time**: Time spent in OS calls\n",
    "   - **Total Time**: User + System time\n",
    "   - Can be HIGHER than wall time due to parallel execution\n",
    "\n",
    "For example, if an operation uses 4 CPU cores for 0.25 seconds each:\n",
    "- Wall Time: ~0.25 seconds (real elapsed time)\n",
    "- CPU Time: ~1.0 second (total computation across cores)\n",
    "\n",
    "```ascii\n",
    "Wall Time:  [==========] 0.25s\n",
    "CPU Time:   [===][===][===][===] 1.0s (across 4 cores)\n",
    "```\n",
    "\n",
    "When we use `%timeit`, we see output like:\n",
    "```\n",
    "238 µs ± 42.3 µs per loop (mean ± std. dev. of 2 runs, 3 loops each)\n",
    "```\n",
    "\n",
    "This means:\n",
    "- Each measurement runs the code 3 times (\"3 loops\")\n",
    "- This whole process is repeated 2 times (\"2 runs\")\n",
    "- The mean time per loop is 238 microseconds\n",
    "- The standard deviation is 42.3 microseconds\n",
    "- Multiple runs/loops help account for system variability\n",
    "\n",
    "Let's see this in action:"
   ]
  },
  {
   "cell_type": "code",
   "execution_count": 22,
   "id": "f7c08e6c",
   "metadata": {},
   "outputs": [
    {
     "name": "stdout",
     "output_type": "stream",
     "text": [
      "Wide Matrix (100×1000) Operations:\n",
      "1. Sum along rows (adjacent elements):\n",
      "CPU times: user 446 µs, sys: 470 µs, total: 916 µs\n",
      "Wall time: 608 µs\n",
      "\n",
      "2. Same operation with detailed timing:\n",
      "29.9 µs ± 3.6 µs per loop (mean ± std. dev. of 2 runs, 3 loops each)\n",
      "\n",
      "Why is wall time often lower than CPU time?\n",
      "- PyTorch uses multiple CPU cores\n",
      "- While you waited 0.25s (wall time)\n",
      "- 4 cores might each work 0.25s (1.0s CPU time)\n"
     ]
    }
   ],
   "source": [
    "# Create test matrices\n",
    "wide = torch.randn(100, 1000)   # Wide: big column jumps\n",
    "tall = torch.randn(1000, 100)   # Tall: smaller column jumps\n",
    "\n",
    "print(\"Wide Matrix (100×1000) Operations:\")\n",
    "print(\"1. Sum along rows (adjacent elements):\")\n",
    "%time _ = torch.sum(wide, dim=1)  # One measurement\n",
    "\n",
    "print(\"\\n2. Same operation with detailed timing:\")\n",
    "%timeit -n 3 -r 2 _ = torch.sum(wide, dim=1)  # Multiple measurements\n",
    "\n",
    "print(\"\\nWhy is wall time often lower than CPU time?\")\n",
    "print(\"- PyTorch uses multiple CPU cores\")\n",
    "print(\"- While you waited 0.25s (wall time)\")\n",
    "print(\"- 4 cores might each work 0.25s (1.0s CPU time)\")"
   ]
  },
  {
   "cell_type": "markdown",
   "id": "9e19d8f7",
   "metadata": {},
   "source": [
    "#### 4. Shape Effects on Performance\n",
    "First, let's create matrices with different shapes:"
   ]
  },
  {
   "cell_type": "code",
   "execution_count": 23,
   "id": "edd34b25",
   "metadata": {},
   "outputs": [],
   "source": [
    "# Create test matrices\n",
    "wide = torch.randn(3000, 5000)   # Wide: big column jumps\n",
    "tall = torch.randn(5000, 3000)   # Tall: smaller column jumps"
   ]
  },
  {
   "cell_type": "markdown",
   "id": "e1586c50",
   "metadata": {},
   "source": [
    "Let's time wide matrix operations:"
   ]
  },
  {
   "cell_type": "code",
   "execution_count": 24,
   "id": "8d6c2472",
   "metadata": {},
   "outputs": [
    {
     "name": "stdout",
     "output_type": "stream",
     "text": [
      "Wide Matrix wide.shape: torch.Size([3000, 5000])\n",
      "Sum along rows (adjacent elements):\n",
      "CPU times: user 3.84 ms, sys: 808 µs, total: 4.65 ms\n",
      "Wall time: 1.01 ms\n",
      "\n",
      "Sum along columns (1000-element jumps):\n",
      "CPU times: user 8.8 ms, sys: 2.47 ms, total: 11.3 ms\n",
      "Wall time: 1.78 ms\n"
     ]
    }
   ],
   "source": [
    "print(\"Wide Matrix wide.shape:\", wide.shape)\n",
    "print(\"Sum along rows (adjacent elements):\")\n",
    "%time _ = torch.sum(wide, dim=1)\n",
    "print(\"\\nSum along columns (1000-element jumps):\")\n",
    "%time _ = torch.sum(wide, dim=0)"
   ]
  },
  {
   "cell_type": "markdown",
   "id": "4bf782d0",
   "metadata": {},
   "source": [
    "Now tall matrix operations:"
   ]
  },
  {
   "cell_type": "code",
   "execution_count": 25,
   "id": "a146efbd",
   "metadata": {},
   "outputs": [
    {
     "name": "stdout",
     "output_type": "stream",
     "text": [
      "Tall Matrix tall.shape: torch.Size([5000, 3000])\n",
      "Sum along rows (adjacent elements):\n",
      "CPU times: user 4.23 ms, sys: 1.68 ms, total: 5.92 ms\n",
      "Wall time: 1.32 ms\n",
      "\n",
      "Sum along columns (100-element jumps):\n",
      "CPU times: user 9.91 ms, sys: 1.65 ms, total: 11.6 ms\n",
      "Wall time: 1.71 ms\n"
     ]
    }
   ],
   "source": [
    "print(\"Tall Matrix tall.shape:\", tall.shape)\n",
    "print(\"Sum along rows (adjacent elements):\")\n",
    "%time _ = torch.sum(tall, dim=1)\n",
    "print(\"\\nSum along columns (100-element jumps):\")\n",
    "%time _ = torch.sum(tall, dim=0)"
   ]
  },
  {
   "cell_type": "markdown",
   "id": "3639ecf3",
   "metadata": {},
   "source": [
    "#### Key Takeaways\n",
    "1. Row Operations:\n",
    "   - Always fast (adjacent memory)\n",
    "   - Same speed regardless of shape\n",
    "   - No noticeable difference for small matrices\n",
    "\n",
    "2. Column Operations:\n",
    "   - Speed depends on matrix width\n",
    "   - Wide matrices: large jumps = slower\n",
    "   - Tall matrices: small jumps = faster\n",
    "   - Only noticeable for large matrices\n",
    "\n",
    "3. Matrix Size Effects (M1 Pro):\n",
    "   - Matrices < 1500x1500: minimal difference\n",
    "   - 1500x1500 to 3000x3000: moderate difference\n",
    "   - > 3000x3000: significant slowdown for column ops\n",
    "   - Due to L1/L2/system cache sizes (128KB/12MB/24MB)\n",
    "\n",
    "4. Rule of Thumb:\n",
    "   - Keep \"jump size\" (matrix width) small for column operations\n",
    "   - Choose shape based on most common access pattern\n",
    "   - Only optimize if working with large matrices (>3000 dimension)\n",
    "\n",
    "## Part 2: Matrix Operations\n",
    "\n",
    "### Matrix Multiplication\n",
    "\n",
    "Why are vectorized operations much faster than loops? Three key reasons:\n",
    "\n",
    "1. **BLAS (Basic Linear Algebra Subprograms)**\n",
    "   - Highly optimized C/Fortran implementations\n",
    "   - Cache-friendly memory access patterns\n",
    "   - Decades of performance optimization\n",
    "\n",
    "2. **SIMD (Single Instruction Multiple Data)**\n",
    "   - CPU can process 4-8 elements simultaneously\n",
    "   - Like a conveyor belt vs moving boxes one at a time\n",
    "\n",
    "3. **Memory Access**\n",
    "   - Loops: Random access, more cache misses\n",
    "   - Vectorized: Optimized patterns, better cache usage\n",
    "\n",
    "Let's see this in action:"
   ]
  },
  {
   "cell_type": "code",
   "execution_count": 26,
   "id": "97a761e9",
   "metadata": {},
   "outputs": [],
   "source": [
    "# Create larger matrices for more obvious timing differences\n",
    "A = torch.randn(500, 500)  # Reduced from 1000\n",
    "B = torch.randn(500, 500)\n",
    "\n",
    "# Warmup runs (PyTorch does runtime optimization)\n",
    "for _ in range(2):  # Reduced from 5\n",
    "    _ = A @ B"
   ]
  },
  {
   "cell_type": "code",
   "execution_count": 27,
   "id": "17a8bfe7",
   "metadata": {},
   "outputs": [
    {
     "name": "stdout",
     "output_type": "stream",
     "text": [
      "Vectorized (@):\n",
      "341 µs ± 84.3 µs per loop (mean ± std. dev. of 2 runs, 3 loops each)\n"
     ]
    }
   ],
   "source": [
    "# Method 1: Vectorized multiplication\n",
    "print(\"Vectorized (@):\")\n",
    "%timeit -n 3 -r 2 C1 = A @ B  # Reduced iterations"
   ]
  },
  {
   "cell_type": "code",
   "execution_count": 28,
   "id": "1fd700a6",
   "metadata": {},
   "outputs": [
    {
     "name": "stdout",
     "output_type": "stream",
     "text": [
      "Manual loops:\n",
      "2.65 s ± 10.4 ms per loop (mean ± std. dev. of 2 runs, 3 loops each)\n"
     ]
    }
   ],
   "source": [
    "# Method 2: Manual multiplication with loops\n",
    "def manual_matmul(A, B):\n",
    "    m, n = A.shape\n",
    "    p = B.shape[1]\n",
    "    C = torch.zeros(m, p)\n",
    "    for i in range(m):\n",
    "        for j in range(p):\n",
    "            C[i,j] = torch.sum(A[i,:] * B[:,j])\n",
    "    return C\n",
    "\n",
    "print(\"Manual loops:\")\n",
    "%timeit -n 3 -r 2 C2 = manual_matmul(A, B)  # Reduced iterations"
   ]
  },
  {
   "cell_type": "code",
   "execution_count": 29,
   "id": "cb2791e4",
   "metadata": {},
   "outputs": [
    {
     "name": "stdout",
     "output_type": "stream",
     "text": [
      "Maximum difference: 1.14e-04\n",
      "Relative to matrix magnitude: 1.07e-06\n",
      "\n",
      "Why might they differ?\n",
      "1. Floating point arithmetic order matters\n",
      "2. PyTorch uses optimized BLAS libraries\n",
      "3. Manual implementation might accumulate errors\n"
     ]
    }
   ],
   "source": [
    "# Verify results match\n",
    "C1 = A @ B\n",
    "C2 = manual_matmul(A, B)\n",
    "\n",
    "# Check if results match within a tolerance\n",
    "# We use a relative tolerance because values can be large\n",
    "rtol = 1e-4  # relative tolerance\n",
    "atol = 1e-6  # absolute tolerance\n",
    "\n",
    "matches = torch.allclose(C1, C2, rtol=rtol, atol=atol)\n",
    "if matches:\n",
    "    print(\"Results match within tolerance!\")\n",
    "else:\n",
    "    # If they don't match, let's see why\n",
    "    diff = torch.abs(C1 - C2)\n",
    "    max_diff = torch.max(diff)\n",
    "    print(f\"Maximum difference: {max_diff:.2e}\")\n",
    "    print(f\"Relative to matrix magnitude: {max_diff/torch.max(torch.abs(C1)):.2e}\")\n",
    "    print(\"\\nWhy might they differ?\")\n",
    "    print(\"1. Floating point arithmetic order matters\")\n",
    "    print(\"2. PyTorch uses optimized BLAS libraries\")\n",
    "    print(\"3. Manual implementation might accumulate errors\")"
   ]
  },
  {
   "cell_type": "markdown",
   "id": "e3b674b1",
   "metadata": {},
   "source": [
    "# Matrix Multiplication Error Handling\n",
    "\n",
    "Let's understand common errors and how to debug them:"
   ]
  },
  {
   "cell_type": "code",
   "execution_count": 30,
   "id": "2ef4aee0",
   "metadata": {},
   "outputs": [
    {
     "name": "stdout",
     "output_type": "stream",
     "text": [
      "Element-wise multiplication shape: torch.Size([3, 4])\n",
      "Matrix multiplication shape: torch.Size([3, 3])\n",
      "\n",
      "Key Differences:\n",
      "* (A * B): Element-wise, same shapes required\n",
      "@ (A @ B): Matrix product, inner dimensions must match\n"
     ]
    }
   ],
   "source": [
    "A = torch.randn(3, 4)\n",
    "B = torch.randn(3, 4)\n",
    "\n",
    "# This works (element-wise multiplication)\n",
    "C1 = A * B\n",
    "print(\"Element-wise multiplication shape:\", C1.shape)\n",
    "\n",
    "# This is matrix multiplication\n",
    "C2 = A @ B.T  # Need to transpose B\n",
    "print(\"Matrix multiplication shape:\", C2.shape)\n",
    "\n",
    "print(\"\\nKey Differences:\")\n",
    "print(\"* (A * B): Element-wise, same shapes required\")\n",
    "print(\"@ (A @ B): Matrix product, inner dimensions must match\")"
   ]
  },
  {
   "cell_type": "markdown",
   "id": "e2d768af",
   "metadata": {},
   "source": [
    "Common Mistakes Summary:\n",
    "1. Shape Mismatch: Inner dimensions must match\n",
    "2. Dimension Issues: Be careful with 1D vs 2D\n",
    "3. Operation Confusion: * vs @ have different rules\n",
    "\n",
    "# Common Mistakes and How to Fix Them\n",
    "\n",
    "## 1. Matrix Operation Confusion"
   ]
  },
  {
   "cell_type": "code",
   "execution_count": 31,
   "id": "b712078b",
   "metadata": {},
   "outputs": [
    {
     "name": "stdout",
     "output_type": "stream",
     "text": [
      "Matrix A:\n",
      "tensor([[1., 2.],\n",
      "        [3., 4.]])\n",
      "\n",
      "Matrix B:\n",
      "tensor([[5., 6.],\n",
      "        [7., 8.]])\n",
      "\n",
      "1. Element-wise multiplication (*):\n",
      "tensor([[ 5., 12.],\n",
      "        [21., 32.]])\n",
      "Result explanation: Each element multiplied independently\n",
      "(1*5=5, 2*6=12, 3*7=21, 4*8=32)\n",
      "\n",
      "2. Matrix multiplication (@):\n",
      "tensor([[19., 22.],\n",
      "        [43., 50.]])\n",
      "Result explanation: Matrix product\n",
      "([1*5 + 2*7, 1*6 + 2*8], [3*5 + 4*7, 3*6 + 4*8])\n",
      "\n",
      "Key Difference:\n",
      "* : Element-wise → Shape stays same\n",
      "@ : Matrix product → Shape can change\n"
     ]
    }
   ],
   "source": [
    "# Create two matrices of the same size\n",
    "A = torch.tensor([[1., 2.], \n",
    "                 [3., 4.]])\n",
    "B = torch.tensor([[5., 6.],\n",
    "                 [7., 8.]])\n",
    "\n",
    "# Mistake: Confusing * with @\n",
    "print(\"Matrix A:\")\n",
    "print(A)\n",
    "print(\"\\nMatrix B:\")\n",
    "print(B)\n",
    "\n",
    "print(\"\\n1. Element-wise multiplication (*):\")\n",
    "C1 = A * B\n",
    "print(C1)\n",
    "print(\"Result explanation: Each element multiplied independently\")\n",
    "print(\"(1*5=5, 2*6=12, 3*7=21, 4*8=32)\")\n",
    "\n",
    "print(\"\\n2. Matrix multiplication (@):\")\n",
    "C2 = A @ B\n",
    "print(C2)\n",
    "print(\"Result explanation: Matrix product\")\n",
    "print(\"([1*5 + 2*7, 1*6 + 2*8], [3*5 + 4*7, 3*6 + 4*8])\")\n",
    "\n",
    "print(\"\\nKey Difference:\")\n",
    "print(\"* : Element-wise → Shape stays same\")\n",
    "print(\"@ : Matrix product → Shape can change\")"
   ]
  },
  {
   "cell_type": "markdown",
   "id": "d44ebcb9",
   "metadata": {},
   "source": [
    "## 2. Type Coercion Edge Cases"
   ]
  },
  {
   "cell_type": "code",
   "execution_count": 32,
   "id": "fae71b4a",
   "metadata": {},
   "outputs": [
    {
     "name": "stdout",
     "output_type": "stream",
     "text": [
      "Tensor dtypes:\n",
      "x (int64): torch.int64\n",
      "y (float32): torch.float32\n",
      "z (int32): torch.int32\n",
      "\n",
      "Mixed integer addition works!\n",
      "Result dtype: torch.int64\n",
      "\n",
      "Integer + float works!\n",
      "Result dtype: torch.float32\n",
      "\n",
      "Key Points:\n",
      "1. Mixed integer types promote to larger type\n",
      "2. Integer + float promotes to float\n",
      "3. When in doubt, explicitly convert using .to(dtype)\n"
     ]
    }
   ],
   "source": [
    "# Create tensors with different dtypes\n",
    "x = torch.tensor([1, 2, 3])                    # default: int64\n",
    "y = torch.tensor([4., 5., 6.])                 # default: float32\n",
    "z = torch.tensor([7, 8, 9], dtype=torch.int32) # explicit: int32\n",
    "\n",
    "print(\"Tensor dtypes:\")\n",
    "print(f\"x (int64): {x.dtype}\")\n",
    "print(f\"y (float32): {y.dtype}\")\n",
    "print(f\"z (int32): {z.dtype}\")\n",
    "\n",
    "# Case 1: Mixed integer types\n",
    "try:\n",
    "    result = x + z  # int64 + int32\n",
    "    print(\"\\nMixed integer addition works!\")\n",
    "    print(f\"Result dtype: {result.dtype}\")  # Promotes to int64\n",
    "except RuntimeError as e:\n",
    "    print(\"\\nError:\", e)\n",
    "\n",
    "# Case 2: Integer and float\n",
    "try:\n",
    "    result = x + y  # int64 + float32\n",
    "    print(\"\\nInteger + float works!\")\n",
    "    print(f\"Result dtype: {result.dtype}\")  # Promotes to float32\n",
    "except RuntimeError as e:\n",
    "    print(\"\\nError:\", e)\n",
    "\n",
    "print(\"\\nKey Points:\")\n",
    "print(\"1. Mixed integer types promote to larger type\")\n",
    "print(\"2. Integer + float promotes to float\")\n",
    "print(\"3. When in doubt, explicitly convert using .to(dtype)\")"
   ]
  },
  {
   "cell_type": "markdown",
   "id": "b125da09",
   "metadata": {},
   "source": [
    "## 3. Shape Compatibility in Practice"
   ]
  },
  {
   "cell_type": "code",
   "execution_count": 33,
   "id": "c96f5351",
   "metadata": {},
   "outputs": [
    {
     "name": "stdout",
     "output_type": "stream",
     "text": [
      "Shape analysis:\n",
      "A: torch.Size([2, 3])\n",
      "B: torch.Size([3, 2])\n",
      "v: torch.Size([3])\n",
      "\n",
      "Valid operations:\n",
      "1. Matrix multiplication (A @ B): torch.Size([2, 2])\n",
      "2. Matrix-vector product (A @ v): torch.Size([2])\n",
      "3. Vector-matrix product (v @ A.T): torch.Size([2])\n",
      "\n",
      "Common shape confusions:\n",
      "Q: Why does A @ v work but v @ A fail?\n",
      "A: PyTorch treats v as column vector for A @ v\n",
      "   but as row vector for v @ A\n",
      "\n",
      "Q: Why does v @ A.T work but v @ A fail?\n",
      "A: Need matching inner dimensions:\n",
      "   v @ A.T is (3) @ (3×2) → (2)\n",
      "   v @ A would be (3) @ (2×3) → Error!\n"
     ]
    }
   ],
   "source": [
    "# Create tensors of various shapes\n",
    "A = torch.randn(2, 3)      # 2×3 matrix\n",
    "B = torch.randn(3, 2)      # 3×2 matrix\n",
    "v = torch.randn(3)         # Vector of size 3\n",
    "\n",
    "print(\"Shape analysis:\")\n",
    "print(f\"A: {A.shape}\")\n",
    "print(f\"B: {B.shape}\")\n",
    "print(f\"v: {v.shape}\")\n",
    "\n",
    "# Valid operations\n",
    "print(\"\\nValid operations:\")\n",
    "print(\"1. Matrix multiplication (A @ B):\", (A @ B).shape)\n",
    "print(\"2. Matrix-vector product (A @ v):\", (A @ v).shape)\n",
    "print(\"3. Vector-matrix product (v @ A.T):\", (v @ A.T).shape)\n",
    "\n",
    "# Common mistakes\n",
    "print(\"\\nCommon shape confusions:\")\n",
    "print(\"Q: Why does A @ v work but v @ A fail?\")\n",
    "print(\"A: PyTorch treats v as column vector for A @ v\")\n",
    "print(\"   but as row vector for v @ A\")\n",
    "print(\"\\nQ: Why does v @ A.T work but v @ A fail?\")\n",
    "print(\"A: Need matching inner dimensions:\")\n",
    "print(\"   v @ A.T is (3) @ (3×2) → (2)\")\n",
    "print(\"   v @ A would be (3) @ (2×3) → Error!\")"
   ]
  },
  {
   "cell_type": "markdown",
   "id": "5ccd5fea",
   "metadata": {},
   "source": [
    "## Key Points to Remember:\n",
    "1. Always check tensor dtypes when creating from data\n",
    "2. Verify dimensions exist before reduction operations\n",
    "3. Understand * vs @ for multiplication\n",
    "4. Use unsqueeze/squeeze for broadcasting\n",
    "5. Consider memory layout for performance\n",
    "6. Check shape compatibility before operations\n",
    "\n",
    "\n",
    "\n",
    "\n",
    "\n",
    "# Broadcasting in PyTorch\n",
    "\n",
    "Broadcasting allows us to perform operations between tensors of different shapes. Let's understand the rules and patterns:"
   ]
  },
  {
   "cell_type": "code",
   "execution_count": 34,
   "id": "96bbfb0a",
   "metadata": {},
   "outputs": [
    {
     "name": "stdout",
     "output_type": "stream",
     "text": [
      "Vector + Scalar:\n",
      "v: torch.Size([3]) →\n",
      "tensor([1., 2., 3.])\n",
      "s: 10.0\n",
      "v + s →\n",
      "tensor([11., 12., 13.])\n",
      "\n",
      "Broadcasting: scalar is repeated to match vector shape\n"
     ]
    }
   ],
   "source": [
    "# 1. Vector + Scalar\n",
    "v = torch.tensor([1., 2., 3.])\n",
    "s = 10.\n",
    "\n",
    "print(\"Vector + Scalar:\")\n",
    "print(f\"v: {v.shape} →\\n{v}\")\n",
    "print(f\"s: {s}\")\n",
    "print(f\"v + s →\\n{v + s}\")\n",
    "print(\"\\nBroadcasting: scalar is repeated to match vector shape\")"
   ]
  },
  {
   "cell_type": "code",
   "execution_count": 35,
   "id": "ca5d55a6",
   "metadata": {},
   "outputs": [
    {
     "name": "stdout",
     "output_type": "stream",
     "text": [
      "Matrix + Vector (rows):\n",
      "A: torch.Size([2, 3]) →\n",
      "tensor([[1., 2., 3.],\n",
      "        [4., 5., 6.]])\n",
      "v: torch.Size([3]) →\n",
      "tensor([10., 20., 30.])\n",
      "A + v →\n",
      "tensor([[11., 22., 33.],\n",
      "        [14., 25., 36.]])\n",
      "\n",
      "Broadcasting steps:\n",
      "1. v shape:     (3,)\n",
      "2. Add dim:     (1, 3)\n",
      "3. Broadcast:   (2, 3)  # Repeated to match rows\n"
     ]
    }
   ],
   "source": [
    "# 2. Matrix + Vector (along rows)\n",
    "A = torch.tensor([[1., 2., 3.],\n",
    "                 [4., 5., 6.]])\n",
    "v = torch.tensor([10., 20., 30.])\n",
    "\n",
    "print(\"Matrix + Vector (rows):\")\n",
    "print(f\"A: {A.shape} →\\n{A}\")\n",
    "print(f\"v: {v.shape} →\\n{v}\")\n",
    "print(f\"A + v →\\n{A + v}\")\n",
    "\n",
    "print(\"\\nBroadcasting steps:\")\n",
    "print(\"1. v shape:     (3,)\")\n",
    "print(\"2. Add dim:     (1, 3)\")\n",
    "print(\"3. Broadcast:   (2, 3)  # Repeated to match rows\")"
   ]
  },
  {
   "cell_type": "code",
   "execution_count": 36,
   "id": "0e328c57",
   "metadata": {},
   "outputs": [
    {
     "name": "stdout",
     "output_type": "stream",
     "text": [
      "Matrix + Vector (columns):\n",
      "A: torch.Size([2, 3]) →\n",
      "tensor([[1., 2., 3.],\n",
      "        [4., 5., 6.]])\n",
      "v: torch.Size([2, 1]) →\n",
      "tensor([[10.],\n",
      "        [20.]])\n",
      "A + v →\n",
      "tensor([[11., 12., 13.],\n",
      "        [24., 25., 26.]])\n",
      "\n",
      "Broadcasting steps:\n",
      "1. v shape:     (2, 1)\n",
      "2. Broadcast:   (2, 3)  # Repeated to match columns\n"
     ]
    }
   ],
   "source": [
    "# 3. Matrix + Vector (along columns)\n",
    "v = torch.tensor([[10.], [20.]])  # Column vector\n",
    "\n",
    "print(\"Matrix + Vector (columns):\")\n",
    "print(f\"A: {A.shape} →\\n{A}\")\n",
    "print(f\"v: {v.shape} →\\n{v}\")\n",
    "print(f\"A + v →\\n{A + v}\")\n",
    "\n",
    "print(\"\\nBroadcasting steps:\")\n",
    "print(\"1. v shape:     (2, 1)\")\n",
    "print(\"2. Broadcast:   (2, 3)  # Repeated to match columns\")"
   ]
  },
  {
   "cell_type": "code",
   "execution_count": 37,
   "id": "247f4851",
   "metadata": {},
   "outputs": [
    {
     "name": "stdout",
     "output_type": "stream",
     "text": [
      "Matrix * Vector Broadcasting:\n",
      "Matrix A: torch.Size([3, 3]) →\n",
      "tensor([[22.5000, 23.1000, 21.8000],\n",
      "        [21.0000, 22.5000, 20.9000],\n",
      "        [23.1000, 24.0000, 22.8000]])\n",
      "Vector v: torch.Size([3]) →\n",
      "tensor([1.0200, 0.9800, 1.0100])\n",
      "A * v →\n",
      "tensor([[22.9500, 22.6380, 22.0180],\n",
      "        [21.4200, 22.0500, 21.1090],\n",
      "        [23.5620, 23.5200, 23.0280]])\n",
      "\n",
      "Broadcasting steps:\n",
      "1. v shape:     (3,)\n",
      "2. Add dim:     (1, 3)\n",
      "3. Broadcast:   (3, 3)  # Repeated to match rows\n",
      "4. Result:      Each column multiplied by corresponding v element\n",
      "\n",
      "Verifying specific results:\n",
      "First row:  22.95, 22.64, 22.02\n",
      "Second row: 21.42, 22.05, 21.11\n",
      "Third row:  23.56, 23.52, 23.03\n"
     ]
    }
   ],
   "source": [
    "# 4. Matrix * Vector Broadcasting Example\n",
    "A = torch.tensor([[22.5, 23.1, 21.8],\n",
    "                 [21.0, 22.5, 20.9],\n",
    "                 [23.1, 24.0, 22.8]])  # [3,3] matrix\n",
    "v = torch.tensor([1.02, 0.98, 1.01])   # [3] vector\n",
    "\n",
    "print(\"Matrix * Vector Broadcasting:\")\n",
    "print(f\"Matrix A: {A.shape} →\\n{A}\")\n",
    "print(f\"Vector v: {v.shape} →\\n{v}\")\n",
    "print(f\"A * v →\\n{A * v}\")\n",
    "\n",
    "print(\"\\nBroadcasting steps:\")\n",
    "print(\"1. v shape:     (3,)\")\n",
    "print(\"2. Add dim:     (1, 3)\")\n",
    "print(\"3. Broadcast:   (3, 3)  # Repeated to match rows\")\n",
    "print(\"4. Result:      Each column multiplied by corresponding v element\")\n",
    "\n",
    "# Verify specific results from image\n",
    "print(\"\\nVerifying specific results:\")\n",
    "print(f\"First row:  {A[0,0]*v[0]:.2f}, {A[0,1]*v[1]:.2f}, {A[0,2]*v[2]:.2f}\")\n",
    "print(f\"Second row: {A[1,0]*v[0]:.2f}, {A[1,1]*v[1]:.2f}, {A[1,2]*v[2]:.2f}\")\n",
    "print(f\"Third row:  {A[2,0]*v[0]:.2f}, {A[2,1]*v[1]:.2f}, {A[2,2]*v[2]:.2f}\")"
   ]
  },
  {
   "cell_type": "markdown",
   "id": "5c223573",
   "metadata": {},
   "source": [
    "![Broadcasting visualization showing how vector v multiplies each column of matrix A](figures/broadcasting.png)\n",
    "\n",
    "Finally, one last example:"
   ]
  },
  {
   "cell_type": "code",
   "execution_count": 38,
   "id": "c7f86f51",
   "metadata": {},
   "outputs": [
    {
     "name": "stdout",
     "output_type": "stream",
     "text": [
      "a shape: torch.Size([3, 1, 5])\n",
      "b shape: torch.Size([1, 4, 5])\n",
      "\n",
      "Broadcasting steps:\n",
      "a: (3, 1, 5) → (3, 4, 5)\n",
      "b: (1, 4, 5) → (3, 4, 5)\n",
      "Result shape: torch.Size([3, 4, 5])\n"
     ]
    }
   ],
   "source": [
    "# 5. More complex shapes\n",
    "a = torch.randn(3, 1, 5)\n",
    "b = torch.randn(1, 4, 5)\n",
    "print(f\"a shape: {a.shape}\")\n",
    "print(f\"b shape: {b.shape}\")\n",
    "\n",
    "# Think about it...\n",
    "print(\"\\nBroadcasting steps:\")\n",
    "print(\"a: (3, 1, 5) → (3, 4, 5)\")\n",
    "print(\"b: (1, 4, 5) → (3, 4, 5)\")\n",
    "print(f\"Result shape: {(a + b).shape}\")"
   ]
  },
  {
   "cell_type": "markdown",
   "id": "6b6e077a",
   "metadata": {},
   "source": [
    "Key Broadcasting Rules:\n",
    "1. Add leading dimensions of size 1 to match ranks\n",
    "2. Size 1 dimensions are stretched to match\n",
    "3. Dimensions must be equal or one must be 1\n",
    "4. Operations work element-wise after broadcasting\n",
    "\n",
    "\n",
    "# SVD: Finding Patterns in Data\n",
    "\n",
    "SVD (Singular Value Decomposition) reveals structure in data by factoring a matrix A into orthogonal components: A = UΣVᵀ. Let's understand the key properties:\n",
    "\n",
    "1. $U^TU = I$, $V^TV = I$ (orthogonal)\n",
    "2. $\\sigma_1 \\geq \\sigma_2 \\geq \\cdots \\geq 0$ (ordered singular values)\n",
    "3. $\\text{rank}(A) = \\#\\{\\sigma_i > 0\\}$ (rank equals number of non-zero singular values)\n",
    "\n",
    "The key points \n",
    "- Factorizations of a matrix are just generally useful. We will see more examples later.\n",
    "- This one is useful because it gives us a way to ISOLATE and RANK certain patterns in data.\n",
    "- For a given $n\\times n$ matrix $A$, the SVD gives $n$ patterns, ordered by \"importance.\"\n",
    "- We will measure the \"importance\" by the size of the singular values.\n",
    "- The patterns are given by $u_iv_i^T$, were $u_i$ are the column of $U$ and $v_i$ are the column of $V$.\n",
    "    - these are called the \"left\" and \"right\" singular vectors.\n",
    "- Then we can use the patterns to partially reconstruct the matrix $A$ by taking the sum of the top $k$ patterns:\n",
    "    - $A_k = \\sum_{i=1}^k \\sigma_i u_i v_i^T$\n",
    "    - this is called the \"rank-$k$ approximation\" of $A$.\n",
    "    - It is actually a rank $k$ matrix!\n",
    "- We will see a theorem in a second that shows this is the best possible rank-$k$ approximation.\n",
    "- For now, how do we measure \"best\"? With a matrix norm!\n",
    "\n",
    "## Matrix Norms and Energy\n",
    "\n",
    "The Frobenius norm measures the total energy in a matrix:\n",
    "\n",
    "$$\\|A\\|_F = \\sqrt{\\sum_{i,j} a_{ij}^2} = \\sqrt{\\sum_{i=1}^r \\sigma_i^2}$$\n",
    "\n",
    "This norm is natural because:\n",
    "1. It treats matrices as vectors in $\\mathbb{R}^{mn}$\n",
    "2. It's rotationally invariant: $\\|A\\|_F = \\|U^t A V \\|_F = \\|S\\|_F$\n",
    "3. It decomposes via singular values: $\\|A\\|_F = \\sqrt{\\sum_i \\sigma_i^2}$\n",
    "\n",
    "Thus, there are three ways to compute the norm of a matrix:\n",
    "1. As a vector norm of the flattened matrix.\n",
    "2. Using the built-in Frobenius norm.\n",
    "3. Using the singular values."
   ]
  },
  {
   "cell_type": "code",
   "execution_count": 39,
   "id": "b4ed6418",
   "metadata": {},
   "outputs": [
    {
     "name": "stdout",
     "output_type": "stream",
     "text": [
      "Method 1 (flatten): tensor(291.5476)\n",
      "Method 2 (built-in): tensor(291.5476)\n",
      "\n",
      "Methods match: True\n",
      "Method 3 (from SVD): tensor(291.5476)\n"
     ]
    }
   ],
   "source": [
    "# Computing Frobenius norm\n",
    "A = torch.tensor([[200., 50.], [50., 200.]])\n",
    "\n",
    "# Method 1: As vector norm of flattened matrix\n",
    "norm1 = torch.norm(A.reshape(-1))\n",
    "print(\"Method 1 (flatten):\", norm1)\n",
    "\n",
    "# Method 2: Using built-in Frobenius norm\n",
    "norm2 = torch.norm(A, p='fro')\n",
    "print(\"Method 2 (built-in):\", norm2)\n",
    "\n",
    "# Verify they're equal\n",
    "print(\"\\nMethods match:\", torch.allclose(norm1, norm2))\n",
    "\n",
    "# Compute from singular values\n",
    "U, S, V = torch.linalg.svd(A)\n",
    "norm3 = torch.sqrt(torch.sum(S**2))\n",
    "print(\"Method 3 (from SVD):\", norm3)"
   ]
  },
  {
   "cell_type": "markdown",
   "id": "1352a2f1",
   "metadata": {},
   "source": [
    "## Optimal Low-Rank Approximation\n",
    "\n",
    "The Eckart-Young-Mirsky theorem states that SVD gives the best possible low-rank approximation:\n",
    "\n",
    "$$\\min_{\\text{rank}(B) \\leq k} \\|A - B\\|_F = \\|A - A_k\\|_F = \\sqrt{\\sum_{i=k+1}^r \\sigma_i^2}$$\n",
    "\n",
    "Key implications:\n",
    "1. Truncated SVD gives optimal approximation\n",
    "2. Error equals discarded singular values\n",
    "3. Measured in Frobenius norm\n",
    "\n",
    "Let's verify this empirically:"
   ]
  },
  {
   "cell_type": "code",
   "execution_count": 40,
   "id": "28033141",
   "metadata": {},
   "outputs": [],
   "source": [
    "def reconstruct(U, S, V, k):\n",
    "    \"\"\"Reconstruct matrix using k components.\"\"\"\n",
    "    return (U[:, :k] @ torch.diag(S[:k]) @ V[:k, :])\n",
    "\n",
    "# Create checkerboard pattern\n",
    "pattern = torch.tensor([\n",
    "    [200,  50, 200,  50],\n",
    "    [ 50, 200,  50, 200],\n",
    "    [200,  50, 200,  50],\n",
    "    [ 50, 200,  50, 200]\n",
    "], dtype=torch.float)\n",
    "\n",
    "# First, let's visualize all patterns in the decomposition\n",
    "U, S, V = torch.linalg.svd(pattern)"
   ]
  },
  {
   "cell_type": "markdown",
   "id": "e596a3e7",
   "metadata": {},
   "source": [
    "Let's look at each individual pattern:"
   ]
  },
  {
   "cell_type": "code",
   "execution_count": 41,
   "id": "72c57c4d",
   "metadata": {},
   "outputs": [
    {
     "data": {
      "image/png": "[encoded data removed]",
      "text/plain": [
       "<Figure size 1080x864 with 10 Axes>"
      ]
     },
     "metadata": {
      "needs_background": "light"
     },
     "output_type": "display_data"
    }
   ],
   "source": [
    "# Create all four rank-1 patterns\n",
    "patterns = []\n",
    "for i in range(4):\n",
    "    pattern_i = U[:, i:i+1] @ torch.diag(S[i:i+1]) @ V[i:i+1, :]\n",
    "    patterns.append(pattern_i)\n",
    "\n",
    "# Visualization\n",
    "plt.figure(figsize=(15, 12))\n",
    "\n",
    "# 1. Original Pattern\n",
    "plt.subplot(331)\n",
    "plt.imshow(pattern, cmap='RdBu')\n",
    "plt.title(\"Original Pattern\")\n",
    "plt.colorbar()\n",
    "\n",
    "# 2. Individual Patterns (2×2 grid)\n",
    "titles = [\"First Pattern\", \"Second Pattern\", \"Third Pattern\", \"Fourth Pattern\"]\n",
    "for i in range(4):\n",
    "    plt.subplot(334 + i)\n",
    "    plt.imshow(patterns[i], cmap='RdBu')\n",
    "    plt.title(f\"{titles[i]}\\nσ₍ᵢ₎={S[i]:.1f}\")\n",
    "    plt.colorbar()\n",
    "\n",
    "plt.tight_layout()\n",
    "plt.show()"
   ]
  },
  {
   "cell_type": "markdown",
   "id": "daa8d640",
   "metadata": {},
   "source": [
    "Now let's look at cumulative reconstructions:"
   ]
  },
  {
   "cell_type": "code",
   "execution_count": 42,
   "id": "bc117cb6",
   "metadata": {},
   "outputs": [
    {
     "data": {
      "image/png": "[encoded data removed]",
      "text/plain": [
       "<Figure size 1080x288 with 6 Axes>"
      ]
     },
     "metadata": {
      "needs_background": "light"
     },
     "output_type": "display_data"
    }
   ],
   "source": [
    "# 3. Cumulative Reconstructions\n",
    "recons = []\n",
    "for k in range(1, 5):\n",
    "    recon_k = reconstruct(U, S, V, k)\n",
    "    recons.append(recon_k)\n",
    "\n",
    "# Plot cumulative reconstructions\n",
    "plt.figure(figsize=(15, 4))\n",
    "for i, r in enumerate(recons[:3]):  # Show first 3\n",
    "    plt.subplot(131 + i)\n",
    "    plt.imshow(r, cmap='RdBu')\n",
    "    plt.title(f\"Using {i+1} Pattern{'s' if i>0 else ''}\\nError: {torch.norm(pattern - r):.1e}\")\n",
    "    plt.colorbar()\n",
    "\n",
    "plt.tight_layout()\n",
    "plt.show()"
   ]
  },
  {
   "cell_type": "markdown",
   "id": "6e0659e8",
   "metadata": {},
   "source": [
    "Let's analyze the patterns and their importance:"
   ]
  },
  {
   "cell_type": "code",
   "execution_count": 43,
   "id": "5b52eadd",
   "metadata": {},
   "outputs": [
    {
     "name": "stdout",
     "output_type": "stream",
     "text": [
      "Singular Values: tensor([5.0000e+02, 3.0000e+02, 8.8238e-06, 2.4984e-06])\n",
      "\n",
      "Energy per pattern:\n",
      "Pattern 1: 73.53%\n",
      "Pattern 2: 26.47%\n",
      "Pattern 3: 0.00%\n",
      "Pattern 4: 0.00%\n",
      "\n",
      "First Pattern Values:\n",
      "tensor([[125.0000, 125.0000, 125.0000, 125.0000],\n",
      "        [125.0000, 124.9999, 125.0000, 124.9999],\n",
      "        [125.0001, 125.0000, 125.0000, 125.0000],\n",
      "        [125.0000, 124.9999, 125.0000, 125.0000]])\n",
      "\n",
      "Second Pattern Values:\n",
      "tensor([[ 75.0000, -75.0000,  75.0000, -75.0000],\n",
      "        [-75.0000,  75.0000, -75.0000,  75.0000],\n",
      "        [ 75.0000, -75.0000,  75.0000, -75.0000],\n",
      "        [-75.0000,  75.0000, -75.0000,  75.0000]])\n",
      "\n",
      "Reconstruction Error Analysis:\n",
      "Using 1 pattern: 3.00e+02\n",
      "Using 2 patterns: 1.12e-04\n",
      "Using 3 patterns: 1.12e-04\n",
      "Using 4 patterns: 1.12e-04\n"
     ]
    }
   ],
   "source": [
    "# Print pattern values and energy analysis\n",
    "print(\"Singular Values:\", S)\n",
    "print(\"\\nEnergy per pattern:\")\n",
    "for i, s in enumerate(S):\n",
    "    energy = 100 * s**2 / torch.sum(S**2)\n",
    "    print(f\"Pattern {i+1}: {energy:.2f}%\")\n",
    "\n",
    "# Show actual values in first two patterns\n",
    "print(\"\\nFirst Pattern Values:\")\n",
    "print(patterns[0])\n",
    "print(\"\\nSecond Pattern Values:\")\n",
    "print(patterns[1])\n",
    "\n",
    "print(\"\\nReconstruction Error Analysis:\")\n",
    "print(f\"Using 1 pattern: {torch.norm(pattern - recons[0]):.2e}\")\n",
    "print(f\"Using 2 patterns: {torch.norm(pattern - recons[1]):.2e}\")\n",
    "print(f\"Using 3 patterns: {torch.norm(pattern - recons[2]):.2e}\")\n",
    "print(f\"Using 4 patterns: {torch.norm(pattern - recons[3]):.2e}\")"
   ]
  },
  {
   "cell_type": "markdown",
   "id": "14aef5a2",
   "metadata": {},
   "source": [
    "Finally, let's compare SVD with random approximations:"
   ]
  },
  {
   "cell_type": "code",
   "execution_count": 44,
   "id": "92429a99",
   "metadata": {},
   "outputs": [
    {
     "name": "stdout",
     "output_type": "stream",
     "text": [
      "\n",
      "Comparing SVD vs Random Rank-2:\n",
      "SVD rank-2 error: 1.12e-04\n",
      "Random rank-2 error: 5.83e+02\n"
     ]
    },
    {
     "data": {
      "image/png": "[encoded data removed]",
      "text/plain": [
       "<Figure size 576x288 with 1 Axes>"
      ]
     },
     "metadata": {
      "needs_background": "light"
     },
     "output_type": "display_data"
    }
   ],
   "source": [
    "# Compare with random approximations\n",
    "def random_rank2(shape):\n",
    "    \"\"\"Generate random rank-2 matrix.\"\"\"\n",
    "    return torch.randn(shape[0], 2) @ torch.randn(2, shape[1])\n",
    "\n",
    "def plot_reconstruction_error(pattern, max_rank=4, n_random=5):\n",
    "    \"\"\"Plot reconstruction error vs rank.\"\"\"\n",
    "    U, S, V = torch.linalg.svd(pattern)\n",
    "    \n",
    "    # SVD errors\n",
    "    svd_errors = []\n",
    "    for k in range(1, max_rank + 1):\n",
    "        approx = reconstruct(U, S, V, k)\n",
    "        svd_errors.append(torch.norm(pattern - approx).item())\n",
    "    \n",
    "    # Random approximation errors\n",
    "    rand_errors = []\n",
    "    for k in range(1, max_rank + 1):\n",
    "        errors = []\n",
    "        for _ in range(n_random):\n",
    "            rand_approx = torch.randn(pattern.shape[0], k) @ torch.randn(k, pattern.shape[1])\n",
    "            errors.append(torch.norm(pattern - rand_approx).item())\n",
    "        rand_errors.append(np.mean(errors))\n",
    "    \n",
    "    plt.figure(figsize=(8, 4))\n",
    "    plt.plot(range(1, max_rank + 1), svd_errors, 'bo-', label='SVD')\n",
    "    plt.plot(range(1, max_rank + 1), rand_errors, 'r--', label='Random')\n",
    "    plt.title(\"Reconstruction Error vs Rank\")\n",
    "    plt.xlabel(\"Rank\")\n",
    "    plt.ylabel(\"Error\")\n",
    "    plt.legend()\n",
    "    plt.grid(True)\n",
    "    plt.show()\n",
    "\n",
    "# Compare SVD with random rank-2\n",
    "svd_rank2 = reconstruct(U, S, V, 2)\n",
    "rand_rank2 = random_rank2(pattern.shape)\n",
    "\n",
    "print(\"\\nComparing SVD vs Random Rank-2:\")\n",
    "print(f\"SVD rank-2 error: {torch.norm(pattern - svd_rank2):.2e}\")\n",
    "print(f\"Random rank-2 error: {torch.norm(pattern - rand_rank2):.2e}\")\n",
    "\n",
    "# Show error decreases with rank\n",
    "plot_reconstruction_error(pattern)"
   ]
  },
  {
   "cell_type": "markdown",
   "id": "166b2a11",
   "metadata": {},
   "source": [
    "The plot shows:\n",
    "1. SVD error (blue) decreases optimally with rank\n",
    "2. Random approximations (red) always have higher error\n",
    "3. Perfect reconstruction at rank 2 with SVD\n",
    "\n",
    "## Example Spam Detection Patterns\n",
    "\n",
    "Let's analyze how SVD helps with spam detection. First, let's look at some example emails:"
   ]
  },
  {
   "cell_type": "code",
   "execution_count": 45,
   "id": "22ae8ff2",
   "metadata": {},
   "outputs": [],
   "source": [
    "# Example emails\n",
    "emails = [\n",
    "    \"\"\"URGENT!! Make MONEY Fast! Buy our amazing product now!!!\n",
    "    Don't miss this INCREDIBLE opportunity to earn $$$$$\n",
    "    Click here: www.suspicious-link.com\"\"\",  # Spam\n",
    "    \n",
    "    \"\"\"CONGRATULATIONS! You've WON $10,000,000!!!\n",
    "    Send your bank details NOW to claim your PRIZE!!\n",
    "    Visit: www.totally-legit-money.com/claim\"\"\",  # Spam\n",
    "    \n",
    "    \"\"\"Dear valued customer, Your ACCOUNT needs verification!\n",
    "    URGENT: Click here to prevent account suspension!!!\n",
    "    www.bank-security-verify.com\"\"\",  # Spam\n",
    "    \n",
    "    \"\"\"ACT NOW!!! Limited time offer - 90% OFF!!!\n",
    "    Premium watches and luxury items at INCREDIBLE prices!\n",
    "    Order here: www.discount-luxury-items.com\"\"\",  # Spam\n",
    "    \n",
    "    \"\"\"ATTENTION: Your payment was declined!!!\n",
    "    Update your billing information IMMEDIATELY!\n",
    "    www.account-verify-now.com\"\"\",  # Spam\n",
    "    \n",
    "    \"\"\"Hi team, Here's the quarterly report for Q3 2023.\n",
    "    Please review the attached spreadsheet and let me know\n",
    "    if you have any questions.\"\"\",  # Not spam\n",
    "    \n",
    "    \"\"\"Meeting reminder: Project sync tomorrow at 10am.\n",
    "    Agenda items: 1. Sprint review 2. Planning\n",
    "    Please come prepared with your updates.\"\"\",  # Not spam\n",
    "    \n",
    "    \"\"\"Thank you for your order #12345.\n",
    "    Your package has been shipped and will arrive in 2-3 days.\n",
    "    Track your delivery at: shipping.legitimate-store.com\"\"\",  # Not spam\n",
    "    \n",
    "    \"\"\"Weekly team newsletter: \n",
    "    1. New hire welcome\n",
    "    2. Office updates\n",
    "    3. Upcoming events\"\"\",  # Not spam\n",
    "    \n",
    "    \"\"\"Your library book is due in 3 days.\n",
    "    Please return or renew online at library.edu/renew\n",
    "    Thank you for using our services.\"\"\"  # Not spam\n",
    "]"
   ]
  },
  {
   "cell_type": "markdown",
   "id": "e69e7ab4",
   "metadata": {},
   "source": [
    "Now let's define our feature extraction functions:"
   ]
  },
  {
   "cell_type": "code",
   "execution_count": 46,
   "id": "bbfc858a",
   "metadata": {},
   "outputs": [],
   "source": [
    "# Feature extraction functions\n",
    "def count_exclamations(text):\n",
    "    \"\"\"Count exclamation marks\"\"\"\n",
    "    return text.count('!')\n",
    "\n",
    "def count_urgent_words(text):\n",
    "    \"\"\"Count urgent words like 'urgent', 'now', 'act'\"\"\"\n",
    "    urgent = ['urgent', 'now', 'act', 'immediate', 'fast']\n",
    "    return sum(text.lower().count(word) for word in urgent)\n",
    "\n",
    "def count_suspicious_links(text):\n",
    "    \"\"\"Count suspicious links (simplified)\"\"\"\n",
    "    suspicious = ['.com/', 'click', 'www.']\n",
    "    return sum(text.lower().count(marker) for marker in suspicious)\n",
    "\n",
    "def compute_caps_ratio(text):\n",
    "    \"\"\"Compute ratio of uppercase to total letters\"\"\"\n",
    "    letters = sum(c.isalpha() for c in text)\n",
    "    if letters == 0:\n",
    "        return 0\n",
    "    caps = sum(c.isupper() for c in text)\n",
    "    return caps / letters\n",
    "\n",
    "def get_length(text):\n",
    "    \"\"\"Get text length\"\"\"\n",
    "    return len(text)"
   ]
  },
  {
   "cell_type": "markdown",
   "id": "a15a523d",
   "metadata": {},
   "source": [
    "Let's extract features from our emails:"
   ]
  },
  {
   "cell_type": "code",
   "execution_count": 47,
   "id": "b46cbd33",
   "metadata": {},
   "outputs": [
    {
     "name": "stdout",
     "output_type": "stream",
     "text": [
      "Features shape: torch.Size([10, 5])\n",
      "Singular values: tensor([4.3175e+02, 9.2474e+00, 1.7934e+00, 1.3037e+00, 1.2639e-01])\n",
      "\n",
      "Energy per pattern: tensor([9.9951e+01, 4.5852e-02, 1.7245e-03, 9.1130e-04, 8.5654e-06]) %\n"
     ]
    }
   ],
   "source": [
    "# Extract features from emails\n",
    "features = []\n",
    "for email in emails:\n",
    "    features.append([\n",
    "        count_exclamations(email),\n",
    "        count_urgent_words(email),\n",
    "        count_suspicious_links(email),\n",
    "        compute_caps_ratio(email),\n",
    "        get_length(email)\n",
    "    ])\n",
    "\n",
    "# Convert to tensor\n",
    "X = torch.tensor(features, dtype=torch.float)\n",
    "print(\"Features shape:\", X.shape)\n",
    "\n",
    "# Analyze with SVD\n",
    "U, S, V = torch.linalg.svd(X)\n",
    "print(\"Singular values:\", S)\n",
    "print(\"\\nEnergy per pattern:\", 100 * S**2 / torch.sum(S**2), \"%\")"
   ]
  },
  {
   "cell_type": "markdown",
   "id": "a2860dbe",
   "metadata": {},
   "source": [
    "Let's visualize the patterns we found:"
   ]
  },
  {
   "cell_type": "code",
   "execution_count": 48,
   "id": "731cee59",
   "metadata": {},
   "outputs": [
    {
     "data": {
      "image/png": "[encoded data removed]",
      "text/plain": [
       "<Figure size 1080x288 with 5 Axes>"
      ]
     },
     "metadata": {
      "needs_background": "light"
     },
     "output_type": "display_data"
    }
   ],
   "source": [
    "# Visualize feature correlations and patterns\n",
    "plt.figure(figsize=(15, 4))\n",
    "\n",
    "# Plot 1: Feature Patterns\n",
    "plt.subplot(141)\n",
    "plt.imshow(V[:2], aspect='auto', cmap='RdBu')\n",
    "plt.title(\"Top 2 Feature Patterns\")\n",
    "plt.colorbar()\n",
    "plt.xlabel(\"Features [exc, urg, links, caps, len]\")\n",
    "plt.ylabel(\"Pattern\")\n",
    "plt.xticks(range(5), ['exc', 'urg', 'links', 'caps', 'len'], rotation=45)\n",
    "\n",
    "# Plot 2: Pattern Strengths\n",
    "plt.subplot(142)\n",
    "plt.plot(S, 'o-')\n",
    "plt.title(\"Pattern Strengths\")\n",
    "plt.xlabel(\"Pattern Index\")\n",
    "plt.ylabel(\"Singular Value\")\n",
    "plt.grid(True)\n",
    "\n",
    "# Plot 3: Email Patterns vs weight in first pattern\n",
    "plt.subplot(143)\n",
    "plt.plot(range(10), U[:, 0], 'o-')  # Using second pattern which separates spam\n",
    "plt.axhline(y=0, color='k', linestyle='--', alpha=0.3)\n",
    "plt.title(\"Email Classification Pattern\")\n",
    "plt.xlabel(\"Email Index (0-4 spam, 5-9 not)\")\n",
    "plt.ylabel(\"Pattern Weight (first pattern)\")\n",
    "plt.grid(True)\n",
    "\n",
    "# Plot 4: Email Patterns vs weight in second pattern\n",
    "plt.subplot(144)\n",
    "plt.plot(range(10), U[:, 1], 'o-')  # Using second pattern which separates spam\n",
    "plt.axhline(y=0, color='k', linestyle='--', alpha=0.3)\n",
    "plt.title(\"Email Classification Pattern\")\n",
    "plt.xlabel(\"Email Index (0-4 spam, 5-9 not)\")\n",
    "plt.ylabel(\"Pattern Weight (second pattern)\")\n",
    "plt.grid(True)\n",
    "\n",
    "plt.tight_layout()\n",
    "plt.show()"
   ]
  },
  {
   "cell_type": "markdown",
   "id": "6bd80e4a",
   "metadata": {},
   "source": [
    "Let's analyze what these patterns mean:"
   ]
  },
  {
   "cell_type": "code",
   "execution_count": 49,
   "id": "57a4f407",
   "metadata": {},
   "outputs": [
    {
     "name": "stdout",
     "output_type": "stream",
     "text": [
      "Feature Pattern Analysis:\n",
      "\n",
      "First pattern (dominated by length):\n",
      "exclamations: -0.021\n",
      "urgent: -0.008\n",
      "links: -0.006\n",
      "caps: -0.001\n",
      "length: -1.000\n",
      "\n",
      "Second pattern (spam indicators):\n",
      "exclamations: 0.928\n",
      "urgent: 0.272\n",
      "links: 0.250\n",
      "caps: 0.030\n",
      "length: -0.023\n"
     ]
    }
   ],
   "source": [
    "# Analyze feature correlations\n",
    "print(\"Feature Pattern Analysis:\")\n",
    "print(\"\\nFirst pattern (dominated by length):\")\n",
    "for i, feat in enumerate(['exclamations', 'urgent', 'links', 'caps', 'length']):\n",
    "    print(f\"{feat}: {V[0, i]:.3f}\")\n",
    "\n",
    "print(\"\\nSecond pattern (spam indicators):\")\n",
    "for i, feat in enumerate(['exclamations', 'urgent', 'links', 'caps', 'length']):\n",
    "    print(f\"{feat}: {V[1, i]:.3f}\")"
   ]
  },
  {
   "cell_type": "markdown",
   "id": "d2403058",
   "metadata": {},
   "source": [
    "Finally, let's look at how well we can reconstruct the data:"
   ]
  },
  {
   "cell_type": "code",
   "execution_count": 50,
   "id": "8bbbe3b2",
   "metadata": {},
   "outputs": [
    {
     "data": {
      "image/png": "[encoded data removed]",
      "text/plain": [
       "<Figure size 1080x288 with 6 Axes>"
      ]
     },
     "metadata": {
      "needs_background": "light"
     },
     "output_type": "display_data"
    },
    {
     "name": "stdout",
     "output_type": "stream",
     "text": [
      "\n",
      "Reconstruction Error Analysis:\n",
      "Total reconstruction error: 2.221\n",
      "Relative error: 0.514%\n",
      "Energy captured: 100.00%\n"
     ]
    }
   ],
   "source": [
    "# Visualize reconstruction quality\n",
    "k = 2  # Use top 2 patterns\n",
    "reconstruction = reconstruct(U, S, V, k)\n",
    "\n",
    "plt.figure(figsize=(15, 4))\n",
    "# Original Data\n",
    "plt.subplot(131)\n",
    "plt.imshow(X, aspect='auto', cmap='viridis')\n",
    "plt.title(\"Original Feature Matrix\")\n",
    "plt.xlabel(\"Features\")\n",
    "plt.ylabel(\"Emails\")\n",
    "plt.colorbar()\n",
    "\n",
    "# Reconstruction\n",
    "plt.subplot(132)\n",
    "plt.imshow(reconstruction, aspect='auto', cmap='viridis')\n",
    "plt.title(f\"Rank-{k} Reconstruction\")\n",
    "plt.xlabel(\"Features\")\n",
    "plt.ylabel(\"Emails\")\n",
    "plt.colorbar()\n",
    "\n",
    "# Difference\n",
    "plt.subplot(133)\n",
    "plt.imshow(X - reconstruction, aspect='auto', cmap='RdBu')\n",
    "plt.title(\"Reconstruction Error\")\n",
    "plt.xlabel(\"Features\")\n",
    "plt.ylabel(\"Emails\")\n",
    "plt.colorbar()\n",
    "\n",
    "plt.tight_layout()\n",
    "plt.show()\n",
    "\n",
    "print(\"\\nReconstruction Error Analysis:\")\n",
    "print(f\"Total reconstruction error: {torch.norm(X - reconstruction):.3f}\")\n",
    "print(f\"Relative error: {torch.norm(X - reconstruction) / torch.norm(X):.3%}\")\n",
    "print(f\"Energy captured: {100 * (S[:k]**2).sum() / (S**2).sum():.2f}%\")"
   ]
  },
  {
   "cell_type": "markdown",
   "id": "ec5e933f",
   "metadata": {},
   "source": [
    "Let's analyze what these visualizations tell us:\n",
    "\n",
    "1. **Feature Pattern Plot (Left)**:\n",
    "   - Red/blue shows positive/negative correlations\n",
    "   - First row (length) is mostly blue, indicating negative correlation\n",
    "   - Second row shows strong positive correlation between exclamations and urgent words\n",
    "\n",
    "2. **Pattern Strengths Plot (Middle)**:\n",
    "   - First singular value dominates (length)\n",
    "   - Second value still significant (spam indicators)\n",
    "   - Remaining patterns are much weaker\n",
    "\n",
    "3. **Email Classification Plot (Right)**:\n",
    "   - Clear separation between spam (indices 0-4) and non-spam (indices 5-9)\n",
    "   - Spam emails have positive weights\n",
    "   - Non-spam emails have negative weights\n",
    "\n",
    "4. **Reconstruction Analysis**:\n",
    "   - Original data shows raw feature values\n",
    "   - Rank-2 reconstruction captures main patterns\n",
    "   - Error plot shows minimal residual structure\n",
    "\n",
    "This visualization suite helps us understand:\n",
    "- How features combine to form patterns\n",
    "- Which patterns are most important\n",
    "- How well we can reconstruct the data\n",
    "- Why the second pattern is better for classification despite lower energy\n",
    "\n",
    "<!-- ## Example 2: Temperature Patterns\n",
    "\n",
    "Before analyzing, predict:\n",
    "1. How many significant patterns do you expect in daily temperatures?\n",
    "2. What might the strongest pattern look like?\n",
    "3. Will morning-to-night variation be stronger than day-to-day changes?\n",
    "\n",
    "```{code-cell} ipython3\n",
    "# Week of temperature readings\n",
    "temps = torch.tensor([\n",
    "    [22.5, 23.1, 21.8],  # Day 1: morning, noon, night\n",
    "    [21.0, 22.5, 20.9],  # Day 2\n",
    "    [23.1, 24.0, 22.8],  # Day 3\n",
    "    [22.8, 23.5, 21.9],  # Day 4\n",
    "    [21.5, 22.8, 21.2]   # Day 5\n",
    "], dtype=torch.float)\n",
    "\n",
    "# Find patterns\n",
    "U, S, V = torch.linalg.svd(temps)\n",
    "\n",
    "# Visualize temperature patterns\n",
    "plt.figure(figsize=(15, 4))\n",
    "\n",
    "# Plot 1: Pattern strengths\n",
    "plt.subplot(131)\n",
    "plt.plot(S, 'o-')\n",
    "plt.title(\"Pattern Strengths\")\n",
    "plt.xlabel(\"Pattern Index\")\n",
    "plt.ylabel(\"Singular Value\")\n",
    "plt.grid(True)\n",
    "\n",
    "# Plot 2: Time of day pattern\n",
    "plt.subplot(132)\n",
    "plt.plot(['Morning', 'Noon', 'Night'], V[0], 'o-')\n",
    "plt.title(\"Strongest Time Pattern\")\n",
    "plt.ylabel(\"Weight\")\n",
    "plt.grid(True)\n",
    "\n",
    "# Plot 3: Day pattern\n",
    "plt.subplot(133)\n",
    "plt.plot(range(1, 6), U[:, 0], 'o-')\n",
    "plt.title(\"Day-to-Day Variation\")\n",
    "plt.xlabel(\"Day\")\n",
    "plt.ylabel(\"Weight\")\n",
    "plt.grid(True)\n",
    "\n",
    "plt.tight_layout()\n",
    "plt.show()\n",
    "\n",
    "print(\"\\nPattern strengths (singular values):\", S)\n",
    "print(\"Energy per pattern:\", 100 * S**2 / torch.sum(S**2), \"%\")\n",
    "\n",
    "# Verify your predictions:\n",
    "print(\"\\nObservations:\")\n",
    "print(\"1. Number of significant patterns:\", sum(S > 0.1).item())\n",
    "print(\"2. Strongest pattern shows:\", \"higher temps at noon\" if V[0, 1] > V[0, 0] else \"different pattern\")\n",
    "print(\"3. Time variation vs Day variation ratio:\", S[0]/S[1])\n",
    "```\n",
    "\n",
    "The plots reveal:\n",
    "1. Left: Only 2 patterns have significant strength\n",
    "2. Middle: The dominant daily cycle (noon peak)\n",
    "3. Right: How each day's temperatures follow the pattern -->\n",
    "\n",
    "\n",
    "## Key Points on SVD:\n",
    "1. SVD finds optimal patterns at each rank\n",
    "2. Singular values show pattern importance\n",
    "3. U and V reveal how patterns combine\n",
    "4. Works for any data: spam, temperatures, images\n",
    "\n",
    "# (Optional)Understanding BLAS Optimizations\n",
    "\n",
    "BLAS (Basic Linear Algebra Subprograms) makes operations fast through several key optimizations:"
   ]
  },
  {
   "cell_type": "code",
   "execution_count": 51,
   "id": "f29ad5fd",
   "metadata": {},
   "outputs": [
    {
     "name": "stdout",
     "output_type": "stream",
     "text": [
      "Comparing multiplication methods:\n",
      "\n",
      "1. Naive (triple loop):\n",
      "CPU times: user 22.5 s, sys: 102 ms, total: 22.6 s\n",
      "Wall time: 22.6 s\n",
      "\n",
      "2. Block-wise (cache-friendly):\n",
      "CPU times: user 1.05 ms, sys: 56 µs, total: 1.11 ms\n",
      "Wall time: 1.12 ms\n",
      "\n",
      "3. PyTorch/BLAS (@):\n",
      "CPU times: user 10 µs, sys: 2 µs, total: 12 µs\n",
      "Wall time: 14.1 µs\n",
      "\n",
      "Results match?\n",
      "Naive vs Block: False\n",
      "Block vs BLAS: False\n"
     ]
    }
   ],
   "source": [
    "# 1. Memory Access Patterns\n",
    "# Let's compare different ways to multiply matrices\n",
    "\n",
    "def naive_multiply(A, B):\n",
    "    m, n = A.shape\n",
    "    n, p = B.shape\n",
    "    C = torch.zeros(m, p)\n",
    "    for i in range(m):\n",
    "        for j in range(p):\n",
    "            for k in range(n):\n",
    "                C[i,j] += A[i,k] * B[k,j]\n",
    "    return C\n",
    "\n",
    "def block_multiply(A, B, block_size=32):\n",
    "    m, n = A.shape\n",
    "    n, p = B.shape\n",
    "    C = torch.zeros(m, p)\n",
    "    for i in range(0, m, block_size):\n",
    "        for j in range(0, p, block_size):\n",
    "            for k in range(0, n, block_size):\n",
    "                # Process block\n",
    "                i_end = min(i + block_size, m)\n",
    "                j_end = min(j + block_size, p)\n",
    "                k_end = min(k + block_size, n)\n",
    "                C[i:i_end, j:j_end] += A[i:i_end, k:k_end] @ B[k:k_end, j:j_end]\n",
    "    return C\n",
    "\n",
    "# Create test matrices\n",
    "A = torch.randn(128, 128)\n",
    "B = torch.randn(128, 128)\n",
    "\n",
    "print(\"Comparing multiplication methods:\")\n",
    "print(\"\\n1. Naive (triple loop):\")\n",
    "%time C1 = naive_multiply(A, B)\n",
    "\n",
    "print(\"\\n2. Block-wise (cache-friendly):\")\n",
    "%time C2 = block_multiply(A, B)\n",
    "\n",
    "print(\"\\n3. PyTorch/BLAS (@):\")\n",
    "%time C3 = A @ B\n",
    "\n",
    "print(\"\\nResults match?\")\n",
    "print(\"Naive vs Block:\", torch.allclose(C1, C2, rtol=1e-4))\n",
    "print(\"Block vs BLAS:\", torch.allclose(C2, C3, rtol=1e-4))"
   ]
  },
  {
   "cell_type": "code",
   "execution_count": 52,
   "id": "f1cc40f2",
   "metadata": {},
   "outputs": [
    {
     "name": "stdout",
     "output_type": "stream",
     "text": [
      "Comparing addition methods:\n",
      "\n",
      "1. Scalar (loop):\n",
      "CPU times: user 47.5 ms, sys: 549 µs, total: 48 ms\n",
      "Wall time: 47.9 ms\n",
      "\n",
      "2. Vectorized (SIMD):\n",
      "CPU times: user 6 µs, sys: 0 ns, total: 6 µs\n",
      "Wall time: 7.87 µs\n",
      "\n",
      "Results match: True\n"
     ]
    }
   ],
   "source": [
    "# 2. SIMD (Single Instruction Multiple Data)\n",
    "# Simulate SIMD vs scalar operations\n",
    "\n",
    "def scalar_add(a, b, n):\n",
    "    c = torch.zeros(n)\n",
    "    for i in range(n):\n",
    "        c[i] = a[i] + b[i]\n",
    "    return c\n",
    "\n",
    "def vector_add(a, b):\n",
    "    return a + b  # PyTorch uses SIMD automatically\n",
    "\n",
    "# Test with larger vectors\n",
    "n = 10000\n",
    "a = torch.randn(n)\n",
    "b = torch.randn(n)\n",
    "\n",
    "print(\"Comparing addition methods:\")\n",
    "print(\"\\n1. Scalar (loop):\")\n",
    "%time c1 = scalar_add(a, b, n)\n",
    "\n",
    "print(\"\\n2. Vectorized (SIMD):\")\n",
    "%time c2 = vector_add(a, b)\n",
    "\n",
    "print(\"\\nResults match:\", torch.allclose(c1, c2))\n"
   ]
  },
  {
   "cell_type": "markdown",
   "id": "6b29e62a",
   "metadata": {},
   "source": [
    "# (Optional) A bit more on 3D Tensors\n",
    "\n",
    "A 3D tensor can be thought of as a stack of matrices. Let's visualize this:"
   ]
  },
  {
   "cell_type": "code",
   "execution_count": 53,
   "id": "9f5d3875",
   "metadata": {},
   "outputs": [
    {
     "name": "stdout",
     "output_type": "stream",
     "text": [
      "3D Tensor Shape: torch.Size([2, 2, 2])\n",
      "\n",
      "Visualization by channel:\n",
      "\n",
      "Channel 0:\n",
      "tensor([[1, 2],\n",
      "        [3, 4]])\n",
      "\n",
      "Channel 1:\n",
      "tensor([[5, 6],\n",
      "        [7, 8]])\n"
     ]
    }
   ],
   "source": [
    "# Create a small 3D tensor for visualization\n",
    "tensor_3d = torch.tensor([\n",
    "    # First matrix (channel 0)\n",
    "    [[1, 2],\n",
    "     [3, 4]],\n",
    "    # Second matrix (channel 1)\n",
    "    [[5, 6],\n",
    "     [7, 8]]\n",
    "])\n",
    "\n",
    "print(\"3D Tensor Shape:\", tensor_3d.shape)  # Should be (2, 2, 2)\n",
    "print(\"\\nVisualization by channel:\")\n",
    "print(\"\\nChannel 0:\")\n",
    "print(tensor_3d[0])\n",
    "print(\"\\nChannel 1:\")\n",
    "print(tensor_3d[1])"
   ]
  },
  {
   "cell_type": "code",
   "execution_count": 54,
   "id": "1bc8a5b2",
   "metadata": {},
   "outputs": [
    {
     "name": "stdout",
     "output_type": "stream",
     "text": [
      "Dimensions in our tensor:\n",
      "dim=0 (channels): 2 channels\n",
      "dim=1 (rows): 2 rows per channel\n",
      "dim=2 (columns): 2 columns per row\n",
      "\n",
      "Summing along different dimensions:\n",
      "dim=0 (sum channels):\n",
      "tensor([[ 6,  8],\n",
      "        [10, 12]])\n",
      "\n",
      "dim=1 (sum rows):\n",
      "tensor([[ 4,  6],\n",
      "        [12, 14]])\n",
      "\n",
      "dim=2 (sum columns):\n",
      "tensor([[ 3,  7],\n",
      "        [11, 15]])\n"
     ]
    }
   ],
   "source": [
    "# Understanding dimensions in 3D tensors\n",
    "print(\"Dimensions in our tensor:\")\n",
    "print(f\"dim=0 (channels): {tensor_3d.shape[0]} channels\")\n",
    "print(f\"dim=1 (rows): {tensor_3d.shape[1]} rows per channel\")\n",
    "print(f\"dim=2 (columns): {tensor_3d.shape[2]} columns per row\")\n",
    "\n",
    "# Let's see what happens when we sum along different dimensions\n",
    "print(\"\\nSumming along different dimensions:\")\n",
    "print(\"dim=0 (sum channels):\")\n",
    "print(tensor_3d.sum(dim=0))  # Combines the channels\n",
    "print(\"\\ndim=1 (sum rows):\")\n",
    "print(tensor_3d.sum(dim=1))  # Combines the rows\n",
    "print(\"\\ndim=2 (sum columns):\")\n",
    "print(tensor_3d.sum(dim=2))  # Combines the columns"
   ]
  },
  {
   "cell_type": "code",
   "execution_count": 55,
   "id": "96715c9e",
   "metadata": {},
   "outputs": [
    {
     "name": "stdout",
     "output_type": "stream",
     "text": [
      "RGB Image Shape: torch.Size([3, 4, 4])\n",
      "\n",
      "Red Channel (0):\n",
      "tensor([[107., 246., 141., 246.],\n",
      "        [138., 192., 143.,  19.],\n",
      "        [116., 245., 186., 140.],\n",
      "        [ 57.,  20., 120., 182.]])\n",
      "\n",
      "Green Channel (1):\n",
      "tensor([[174.,  74., 107., 250.],\n",
      "        [238., 100.,  88., 106.],\n",
      "        [ 35., 217., 204.,  49.],\n",
      "        [253., 240., 167., 152.]])\n",
      "\n",
      "Blue Channel (2):\n",
      "tensor([[ 17., 105.,  67., 118.],\n",
      "        [ 71., 193.,  19.,  12.],\n",
      "        [ 34., 120., 246., 220.],\n",
      "        [215., 185.,  36.,  22.]])\n"
     ]
    },
    {
     "data": {
      "image/png": "[encoded data removed]",
      "text/plain": [
       "<Figure size 864x288 with 6 Axes>"
      ]
     },
     "metadata": {
      "needs_background": "light"
     },
     "output_type": "display_data"
    }
   ],
   "source": [
    "# Real-world example: RGB Image\n",
    "rgb_image = torch.randint(0, 255, (3, 4, 4), dtype=torch.float32)  # 3 channels, 4x4 image\n",
    "print(\"RGB Image Shape:\", rgb_image.shape)\n",
    "\n",
    "print(\"\\nRed Channel (0):\")\n",
    "print(rgb_image[0])\n",
    "print(\"\\nGreen Channel (1):\")\n",
    "print(rgb_image[1])\n",
    "print(\"\\nBlue Channel (2):\")\n",
    "print(rgb_image[2])\n",
    "\n",
    "# Visualize the RGB channels\n",
    "plt.figure(figsize=(12, 4))\n",
    "\n",
    "plt.subplot(131)\n",
    "plt.imshow(rgb_image[0], cmap='Reds')\n",
    "plt.title('Red Channel')\n",
    "plt.colorbar()\n",
    "\n",
    "plt.subplot(132)\n",
    "plt.imshow(rgb_image[1], cmap='Greens')\n",
    "plt.title('Green Channel')\n",
    "plt.colorbar()\n",
    "\n",
    "plt.subplot(133)\n",
    "plt.imshow(rgb_image[2], cmap='Blues')\n",
    "plt.title('Blue Channel')\n",
    "plt.colorbar()\n",
    "\n",
    "plt.tight_layout()\n",
    "plt.show()"
   ]
  },
  {
   "cell_type": "code",
   "execution_count": 56,
   "id": "9c44bce1",
   "metadata": {},
   "outputs": [
    {
     "name": "stdout",
     "output_type": "stream",
     "text": [
      "1. Channel means:\n",
      "tensor([143.6250, 153.3750, 105.0000])\n",
      "\n",
      "2. Pixel-wise means:\n",
      "tensor([[ 99.3333, 141.6667, 105.0000, 204.6667],\n",
      "        [149.0000, 161.6667,  83.3333,  45.6667],\n",
      "        [ 61.6667, 194.0000, 212.0000, 136.3333],\n",
      "        [175.0000, 148.3333, 107.6667, 118.6667]])\n",
      "\n",
      "3. Selecting specific channel and location:\n",
      "Value at (channel=1, row=2, col=3): 49.0\n"
     ]
    }
   ],
   "source": [
    "# Common operations with 3D tensors\n",
    "print(\"1. Channel means:\")\n",
    "channel_means = rgb_image.mean(dim=(1,2))  # Average each channel\n",
    "print(channel_means)\n",
    "\n",
    "print(\"\\n2. Pixel-wise means:\")\n",
    "pixel_means = rgb_image.mean(dim=0)  # Average across channels\n",
    "print(pixel_means)\n",
    "\n",
    "print(\"\\n3. Selecting specific channel and location:\")\n",
    "print(f\"Value at (channel=1, row=2, col=3): {rgb_image[1,2,3]}\")"
   ]
  },
  {
   "cell_type": "markdown",
   "id": "2057a97d",
   "metadata": {},
   "source": [
    "Key Points about 3D Tensors:\n",
    "1. Think of them as stacked 2D matrices\n",
    "2. First dimension (dim=0) is often channels/depth\n",
    "3. Common in images (RGB), video (frames), and time series (batches)\n",
    "4. Operations can work on any combination of dimensions"
   ]
  }
 ],
 "metadata": {
  "jupyter": {
   "jupytext": {
    "text_representation": {
     "extension": ".md",
     "format_name": "myst",
     "format_version": 0.13,
     "jupytext_version": "1.16.6"
    }
   },
   "kernelspec": {
    "display_name": "Python 3",
    "language": "python",
    "name": "python3"
   }
  },
  "kernelspec": {
   "display_name": "Python 3",
   "language": "python",
   "name": "python3"
  },
  "language_info": {
   "codemirror_mode": {
    "name": "ipython",
    "version": 3
   },
   "file_extension": ".py",
   "mimetype": "text/x-python",
   "name": "python",
   "nbconvert_exporter": "python",
   "pygments_lexer": "ipython3",
   "version": "3.10.4"
  }
 },
 "nbformat": 4,
 "nbformat_minor": 5
}
